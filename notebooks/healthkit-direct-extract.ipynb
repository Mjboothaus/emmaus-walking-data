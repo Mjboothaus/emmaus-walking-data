{
 "cells": [
  {
   "cell_type": "code",
   "execution_count": 1,
   "metadata": {},
   "outputs": [],
   "source": [
    "import xml.etree.ElementTree as ET\n",
    "\n",
    "import pandas as pd\n",
    "import datetime as dt"
   ]
  },
  {
   "cell_type": "code",
   "execution_count": 25,
   "metadata": {},
   "outputs": [],
   "source": [
    "HEALTHKIT_XML_FILE_PATH = \"/Users/mjboothaus/icloud/Data/apple_health_export/apple_health_export_11Mar2023/export.xml\"\n",
    "\n",
    "# Note that version 12 of the HealthKit export format has to be fixed to work correctly"
   ]
  },
  {
   "cell_type": "code",
   "execution_count": 26,
   "metadata": {},
   "outputs": [
    {
     "name": "stdout",
     "output_type": "stream",
     "text": [
      "<?xml version=\"1.0\" encoding=\"UTF-8\"?>\n",
      "<!DOCTYPE HealthData [\n",
      "<!-- HealthKit Export Version: 12 -->\n",
      "<!ELEMENT HealthData (ExportDate,Me,(Record|Correlation|Workout|ActivitySummary|ClinicalRecord|VisionPrescription)*)>\n",
      "<!ATTLIST HealthData\n",
      "  locale CDATA #REQUIRED\n",
      ">\n",
      "<!ELEMENT ExportDate EMPTY>\n",
      "<!ATTLIST ExportDate\n",
      "  value CDATA #REQUIRED\n"
     ]
    }
   ],
   "source": [
    "!head $HEALTHKIT_XML_FILE_PATH"
   ]
  },
  {
   "cell_type": "code",
   "execution_count": 27,
   "metadata": {},
   "outputs": [
    {
     "ename": "ParseError",
     "evalue": "syntax error: line 156, column 0 (<string>)",
     "output_type": "error",
     "traceback": [
      "Traceback \u001b[0;36m(most recent call last)\u001b[0m:\n",
      "\u001b[0m  File \u001b[1;32m~/code/github/mjboothaus/emmaus-walking-data/.venv/lib/python3.9/site-packages/IPython/core/interactiveshell.py:3460\u001b[0m in \u001b[1;35mrun_code\u001b[0m\n    exec(code_obj, self.user_global_ns, self.user_ns)\u001b[0m\n",
      "\u001b[0m  Cell \u001b[1;32mIn[27], line 2\u001b[0m\n    tree = ET.parse(HEALTHKIT_XML_FILE_PATH, ET.XMLParser(encoding=\"utf-8\"))\u001b[0m\n",
      "\u001b[0m  File \u001b[1;32m~/.pyenv/versions/3.9.16/lib/python3.9/xml/etree/ElementTree.py:1222\u001b[0m in \u001b[1;35mparse\u001b[0m\n    tree.parse(source, parser)\u001b[0m\n",
      "\u001b[0;36m  File \u001b[0;32m~/.pyenv/versions/3.9.16/lib/python3.9/xml/etree/ElementTree.py:586\u001b[0;36m in \u001b[0;35mparse\u001b[0;36m\n\u001b[0;31m    parser.feed(data)\u001b[0;36m\n",
      "\u001b[0;36m  File \u001b[0;32m<string>\u001b[0;36m\u001b[0m\n\u001b[0;31mParseError\u001b[0m\u001b[0;31m:\u001b[0m syntax error: line 156, column 0\n"
     ]
    }
   ],
   "source": [
    "# Create element tree object\n",
    "tree = ET.parse(HEALTHKIT_XML_FILE_PATH, ET.XMLParser(encoding=\"utf-8\"))"
   ]
  },
  {
   "cell_type": "code",
   "execution_count": 10,
   "metadata": {},
   "outputs": [
    {
     "ename": "NameError",
     "evalue": "name 'tree' is not defined",
     "output_type": "error",
     "traceback": [
      "\u001b[0;31m---------------------------------------------------------------------------\u001b[0m",
      "\u001b[0;31mNameError\u001b[0m                                 Traceback (most recent call last)",
      "Cell \u001b[0;32mIn[10], line 2\u001b[0m\n\u001b[1;32m      1\u001b[0m \u001b[39m# For every health record, extract the attributes\u001b[39;00m\n\u001b[0;32m----> 2\u001b[0m root \u001b[39m=\u001b[39m tree\u001b[39m.\u001b[39mgetroot()\n\u001b[1;32m      3\u001b[0m record_list \u001b[39m=\u001b[39m [x\u001b[39m.\u001b[39mattrib \u001b[39mfor\u001b[39;00m x \u001b[39min\u001b[39;00m root\u001b[39m.\u001b[39miter(\u001b[39m'\u001b[39m\u001b[39mRecord\u001b[39m\u001b[39m'\u001b[39m)]\n",
      "\u001b[0;31mNameError\u001b[0m: name 'tree' is not defined"
     ]
    }
   ],
   "source": [
    "\n",
    "# For every health record, extract the attributes\n",
    "root = tree.getroot()\n",
    "record_list = [x.attrib for x in root.iter('Record')]"
   ]
  },
  {
   "cell_type": "code",
   "execution_count": null,
   "metadata": {},
   "outputs": [],
   "source": []
  }
 ],
 "metadata": {
  "kernelspec": {
   "display_name": ".venv",
   "language": "python",
   "name": "python3"
  },
  "language_info": {
   "codemirror_mode": {
    "name": "ipython",
    "version": 3
   },
   "file_extension": ".py",
   "mimetype": "text/x-python",
   "name": "python",
   "nbconvert_exporter": "python",
   "pygments_lexer": "ipython3",
   "version": "3.9.16"
  },
  "orig_nbformat": 4
 },
 "nbformat": 4,
 "nbformat_minor": 2
}
