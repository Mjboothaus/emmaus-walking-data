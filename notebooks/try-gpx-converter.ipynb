{
 "cells": [
  {
   "attachments": {},
   "cell_type": "markdown",
   "metadata": {},
   "source": [
    "## `gpx-converter`\n",
    "\n",
    "https://nidhalbacc.medium.com/how-to-manipulate-gpx-files-using-python-57da00bd36fc"
   ]
  },
  {
   "cell_type": "code",
   "execution_count": 1,
   "metadata": {},
   "outputs": [],
   "source": [
    "from gpx_converter import Converter"
   ]
  },
  {
   "cell_type": "code",
   "execution_count": 2,
   "metadata": {},
   "outputs": [],
   "source": [
    "eg_gpx_file = \"../data/apple_health_export/workout-routes/route_2017-07-31_11.57am.gpx\""
   ]
  },
  {
   "cell_type": "code",
   "execution_count": 3,
   "metadata": {},
   "outputs": [],
   "source": [
    "df = Converter(input_file=eg_gpx_file).gpx_to_dataframe()"
   ]
  },
  {
   "cell_type": "code",
   "execution_count": 5,
   "metadata": {},
   "outputs": [
    {
     "name": "stdout",
     "output_type": "stream",
     "text": [
      "<class 'pandas.core.frame.DataFrame'>\n",
      "RangeIndex: 3928 entries, 0 to 3927\n",
      "Data columns (total 4 columns):\n",
      " #   Column     Non-Null Count  Dtype                        \n",
      "---  ------     --------------  -----                        \n",
      " 0   time       3928 non-null   datetime64[ns, SimpleTZ(\"Z\")]\n",
      " 1   latitude   3928 non-null   float64                      \n",
      " 2   longitude  3928 non-null   float64                      \n",
      " 3   altitude   3928 non-null   float64                      \n",
      "dtypes: datetime64[ns, SimpleTZ(\"Z\")](1), float64(3)\n",
      "memory usage: 122.9 KB\n"
     ]
    }
   ],
   "source": [
    "df.info()"
   ]
  },
  {
   "cell_type": "code",
   "execution_count": null,
   "metadata": {},
   "outputs": [],
   "source": []
  }
 ],
 "metadata": {
  "kernelspec": {
   "display_name": ".venv",
   "language": "python",
   "name": "python3"
  },
  "language_info": {
   "codemirror_mode": {
    "name": "ipython",
    "version": 3
   },
   "file_extension": ".py",
   "mimetype": "text/x-python",
   "name": "python",
   "nbconvert_exporter": "python",
   "pygments_lexer": "ipython3",
   "version": "3.9.16"
  },
  "orig_nbformat": 4
 },
 "nbformat": 4,
 "nbformat_minor": 2
}
