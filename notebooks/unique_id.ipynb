{
 "cells": [
  {
   "cell_type": "code",
   "execution_count": 1,
   "metadata": {},
   "outputs": [],
   "source": [
    "from uuid import uuid4, uuid5, UUID\n",
    "from sqlite_utils import Database\n",
    "import pandas as pd"
   ]
  },
  {
   "cell_type": "code",
   "execution_count": 2,
   "metadata": {},
   "outputs": [
    {
     "data": {
      "text/plain": [
       "UUID('199109dc-8773-498c-aea9-d8630cc4a2fd')"
      ]
     },
     "execution_count": 2,
     "metadata": {},
     "output_type": "execute_result"
    }
   ],
   "source": [
    "uuid4()  # this is random"
   ]
  },
  {
   "cell_type": "code",
   "execution_count": 3,
   "metadata": {},
   "outputs": [],
   "source": [
    "FIXED_NAMESPACE = UUID('d5c0f985-3af0-4cfd-8012-560516582f0f') ## random UUID created from a call to uuid4()"
   ]
  },
  {
   "cell_type": "code",
   "execution_count": 4,
   "metadata": {},
   "outputs": [],
   "source": [
    "assert uuid5(FIXED_NAMESPACE, \"Test\") == UUID('9e22cac9-9604-5497-8e13-ef0dba6eb82e')\n",
    "\n",
    "# Check that the UUID is fixed for fixed inputs"
   ]
  },
  {
   "cell_type": "code",
   "execution_count": 5,
   "metadata": {},
   "outputs": [],
   "source": [
    " db = Database(\"../data/healthkit_db_2022_06_21.sqlite\")"
   ]
  },
  {
   "cell_type": "code",
   "execution_count": 6,
   "metadata": {},
   "outputs": [],
   "source": [
    "query_df = pd.read_sql_query(\"SELECT creationDate from workouts\", db.conn)"
   ]
  },
  {
   "cell_type": "code",
   "execution_count": 7,
   "metadata": {},
   "outputs": [
    {
     "data": {
      "text/plain": [
       "'2016-04-26 17:50:26 +1000'"
      ]
     },
     "execution_count": 7,
     "metadata": {},
     "output_type": "execute_result"
    }
   ],
   "source": [
    "query_df[\"creationDate\"].iloc[0]"
   ]
  },
  {
   "cell_type": "code",
   "execution_count": 8,
   "metadata": {},
   "outputs": [],
   "source": [
    "assert uuid5(FIXED_NAMESPACE, query_df[\"creationDate\"].iloc[0]) == UUID('544a0e64-e819-51d0-a2e0-6057b358de92')"
   ]
  },
  {
   "cell_type": "code",
   "execution_count": 9,
   "metadata": {},
   "outputs": [],
   "source": [
    "query_df[\"uuid\"] = query_df[\"creationDate\"].apply(lambda dte: uuid5(FIXED_NAMESPACE, dte))"
   ]
  },
  {
   "cell_type": "code",
   "execution_count": 10,
   "metadata": {},
   "outputs": [
    {
     "data": {
      "text/html": [
       "<div>\n",
       "<style scoped>\n",
       "    .dataframe tbody tr th:only-of-type {\n",
       "        vertical-align: middle;\n",
       "    }\n",
       "\n",
       "    .dataframe tbody tr th {\n",
       "        vertical-align: top;\n",
       "    }\n",
       "\n",
       "    .dataframe thead th {\n",
       "        text-align: right;\n",
       "    }\n",
       "</style>\n",
       "<table border=\"1\" class=\"dataframe\">\n",
       "  <thead>\n",
       "    <tr style=\"text-align: right;\">\n",
       "      <th></th>\n",
       "      <th>creationDate</th>\n",
       "      <th>uuid</th>\n",
       "    </tr>\n",
       "  </thead>\n",
       "  <tbody>\n",
       "    <tr>\n",
       "      <th>0</th>\n",
       "      <td>2016-04-26 17:50:26 +1000</td>\n",
       "      <td>544a0e64-e819-51d0-a2e0-6057b358de92</td>\n",
       "    </tr>\n",
       "    <tr>\n",
       "      <th>1</th>\n",
       "      <td>2016-05-09 17:59:56 +1000</td>\n",
       "      <td>45a1aa4c-2b56-505c-b05a-d3add86b325c</td>\n",
       "    </tr>\n",
       "    <tr>\n",
       "      <th>2</th>\n",
       "      <td>2016-05-10 11:21:01 +1000</td>\n",
       "      <td>f4a90e4e-522d-5d1b-bf46-de92e2334750</td>\n",
       "    </tr>\n",
       "    <tr>\n",
       "      <th>3</th>\n",
       "      <td>2016-05-10 21:51:00 +1000</td>\n",
       "      <td>e216e01f-09e5-5ac0-8906-a5465f298563</td>\n",
       "    </tr>\n",
       "    <tr>\n",
       "      <th>4</th>\n",
       "      <td>2016-05-11 12:39:04 +1000</td>\n",
       "      <td>259ac303-55b5-5381-9321-d6b483013ed8</td>\n",
       "    </tr>\n",
       "    <tr>\n",
       "      <th>...</th>\n",
       "      <td>...</td>\n",
       "      <td>...</td>\n",
       "    </tr>\n",
       "    <tr>\n",
       "      <th>960</th>\n",
       "      <td>2022-04-26 10:55:42 +1000</td>\n",
       "      <td>702018b6-27d0-5dfd-98bb-9d9076a5094e</td>\n",
       "    </tr>\n",
       "    <tr>\n",
       "      <th>961</th>\n",
       "      <td>2022-04-27 10:54:56 +1000</td>\n",
       "      <td>03cfecac-dd58-50ad-8c65-8d281b69a6e2</td>\n",
       "    </tr>\n",
       "    <tr>\n",
       "      <th>962</th>\n",
       "      <td>2022-04-29 11:16:44 +1000</td>\n",
       "      <td>dc1f4fbe-d66a-5c8b-b055-c1f0270c38d3</td>\n",
       "    </tr>\n",
       "    <tr>\n",
       "      <th>963</th>\n",
       "      <td>2022-06-15 09:59:39 +1000</td>\n",
       "      <td>ba043e9e-c29e-5002-b14d-d4f0aae0d20f</td>\n",
       "    </tr>\n",
       "    <tr>\n",
       "      <th>964</th>\n",
       "      <td>2022-06-16 10:59:20 +1000</td>\n",
       "      <td>2b41d3a0-955d-5c64-9685-15a8cba3584f</td>\n",
       "    </tr>\n",
       "  </tbody>\n",
       "</table>\n",
       "<p>965 rows × 2 columns</p>\n",
       "</div>"
      ],
      "text/plain": [
       "                  creationDate                                  uuid\n",
       "0    2016-04-26 17:50:26 +1000  544a0e64-e819-51d0-a2e0-6057b358de92\n",
       "1    2016-05-09 17:59:56 +1000  45a1aa4c-2b56-505c-b05a-d3add86b325c\n",
       "2    2016-05-10 11:21:01 +1000  f4a90e4e-522d-5d1b-bf46-de92e2334750\n",
       "3    2016-05-10 21:51:00 +1000  e216e01f-09e5-5ac0-8906-a5465f298563\n",
       "4    2016-05-11 12:39:04 +1000  259ac303-55b5-5381-9321-d6b483013ed8\n",
       "..                         ...                                   ...\n",
       "960  2022-04-26 10:55:42 +1000  702018b6-27d0-5dfd-98bb-9d9076a5094e\n",
       "961  2022-04-27 10:54:56 +1000  03cfecac-dd58-50ad-8c65-8d281b69a6e2\n",
       "962  2022-04-29 11:16:44 +1000  dc1f4fbe-d66a-5c8b-b055-c1f0270c38d3\n",
       "963  2022-06-15 09:59:39 +1000  ba043e9e-c29e-5002-b14d-d4f0aae0d20f\n",
       "964  2022-06-16 10:59:20 +1000  2b41d3a0-955d-5c64-9685-15a8cba3584f\n",
       "\n",
       "[965 rows x 2 columns]"
      ]
     },
     "execution_count": 10,
     "metadata": {},
     "output_type": "execute_result"
    }
   ],
   "source": [
    "query_df"
   ]
  },
  {
   "cell_type": "code",
   "execution_count": 11,
   "metadata": {},
   "outputs": [
    {
     "data": {
      "text/plain": [
       "creationDate    965\n",
       "uuid            965\n",
       "dtype: int64"
      ]
     },
     "execution_count": 11,
     "metadata": {},
     "output_type": "execute_result"
    }
   ],
   "source": [
    "query_df.nunique()"
   ]
  }
 ],
 "metadata": {
  "kernelspec": {
   "display_name": "Python 3.9.12 ('.venv': venv)",
   "language": "python",
   "name": "python3"
  },
  "language_info": {
   "codemirror_mode": {
    "name": "ipython",
    "version": 3
   },
   "file_extension": ".py",
   "mimetype": "text/x-python",
   "name": "python",
   "nbconvert_exporter": "python",
   "pygments_lexer": "ipython3",
   "version": "3.9.12"
  },
  "orig_nbformat": 4,
  "vscode": {
   "interpreter": {
    "hash": "a53a55b0073614e9e0c431f4185a85688d811cf9f818579d72a21abdfe61484e"
   }
  }
 },
 "nbformat": 4,
 "nbformat_minor": 2
}
