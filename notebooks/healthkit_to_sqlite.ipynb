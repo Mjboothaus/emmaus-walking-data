{
 "cells": [
  {
   "cell_type": "markdown",
   "metadata": {},
   "source": [
    "# Database - functions for data back-end / manipulations\n",
    "\n",
    "This is using an alternate approach:\n",
    "  - Export all of my Apple HealthFit data from the Health app to export.zip \n",
    "  - Converted this to a SQLite database using `healthfit-to-sqlite`\n",
    " \n",
    "  Queries can then against this database to build the cache file (or possibly a smaller custom SQLite file.\n",
    "\n",
    "## TODO\n",
    "* This is still a work in progress\n",
    "* Need to write the queries to marshall the data for each of the workouts within each group of walks\n",
    "* Then cache this data - maybe try another (small) sqlite db for the caching (instead of feather)\n",
    "* **NOTE: It looks like the queries are being truncated at 1000 values - need to fix**\n"
   ]
  },
  {
   "cell_type": "code",
   "execution_count": 1,
   "metadata": {},
   "outputs": [],
   "source": [
    "\n",
    "import pandas as pd\n",
    "\n",
    "from dateutil.parser import parse\n",
    "import datetime as dt\n",
    "import sqlite3 as sql\n",
    "from pathlib import Path\n",
    "import tomli\n",
    "\n",
    "import subprocess\n",
    "import pendulum\n",
    "from sqlite_utils import Database\n",
    "import reverse_geocoder as rg\n",
    "import healthkit_to_sqlite"
   ]
  },
  {
   "cell_type": "markdown",
   "metadata": {},
   "source": [
    "### Datasette.io approach\n",
    "\n",
    "#### Exporting HealthKit data / creating SQLite DB\n",
    "\n",
    "First export HealthKit data using the Health app - select your profile icon from the top-right of the main screen and then select **Export All Health Data** (this can take some time to create the `export.zip` file).\n",
    "\n",
    "The archive can be converted to a SQLite database using the following command:\n",
    "\n",
    "`healthkit-to-sqlite export.zip healthkit_db.sqlite`"
   ]
  },
  {
   "cell_type": "code",
   "execution_count": 2,
   "metadata": {},
   "outputs": [],
   "source": [
    "HEALTHKIT_DATA_PATH = \"/Users/mjboothaus/icloud/Data/apple_health_export\"\n",
    "export_zip = Path(HEALTHKIT_DATA_PATH) / \"export.zip\""
   ]
  },
  {
   "cell_type": "code",
   "execution_count": 3,
   "metadata": {},
   "outputs": [],
   "source": [
    "# !mv /Users/mjboothaus/icloud/Data/apple_health_export/export_2022_05_11.zip /Users/mjboothaus/icloud/Data/apple_health_export/export.zip"
   ]
  },
  {
   "cell_type": "code",
   "execution_count": 4,
   "metadata": {},
   "outputs": [
    {
     "name": "stdout",
     "output_type": "stream",
     "text": [
      "export.zip                     export_3Oct2021.zip\n",
      "export_2022_04_28.zip          export_6Feb2022.zip\n",
      "export_28Nov2021.zip           healthkit_db_2022_04_28.sqlite\n",
      "export_31Jul2021.zip           healthkit_db_2022_05_11.sqlite\n"
     ]
    }
   ],
   "source": [
    "!ls $HEALTHKIT_DATA_PATH"
   ]
  },
  {
   "cell_type": "code",
   "execution_count": 5,
   "metadata": {},
   "outputs": [],
   "source": [
    "def convert_healthkit_export_to_sqlite(export_zip):\n",
    "    zip_file = export_zip.as_posix()\n",
    "    if export_zip.exists() is False:\n",
    "        print(zip_file, \": not found\")\n",
    "        return None, f\"{zip_file}: not found\"\n",
    "    zip_file_date = pendulum.instance(dt.datetime.fromtimestamp(export_zip.stat().st_ctime))\n",
    "\n",
    "    db_file = zip_file.replace(\"export.zip\", \"healthkit_db.sqlite\")\n",
    "    if Path(db_file).exists() is True:\n",
    "        Path(db_file).unlink()\n",
    "    sp_cmd = f\"healthkit-to-sqlite {zip_file} {db_file}\"\n",
    "    print(sp_cmd)\n",
    "    print('---------------------------------------------------------------------------------------------')\n",
    "    print('Please wait: converting healthkit export.zip to sqlite database (takes just over a minute)...')\n",
    "\n",
    "    sp = subprocess.Popen(sp_cmd, stdout=subprocess.PIPE, shell=True)\n",
    "    (sp_output, sp_err) = sp.communicate()  \n",
    "\n",
    "    # This makes the wait possible\n",
    "    sp_status = sp.wait()\n",
    "\n",
    "    db_file_with_date = db_file.replace(\".sqlite\", \"_\" + zip_file_date.to_date_string().replace(\"-\", \"_\") + \".sqlite\")\n",
    "\n",
    "    export_zip.rename(zip_file.replace(\".zip\", \"_\" + zip_file_date.to_date_string().replace(\"-\", \"_\") + \".zip\"))\n",
    "    Path(db_file).rename(db_file_with_date)\n",
    "\n",
    "    return db_file_with_date, sp_output"
   ]
  },
  {
   "cell_type": "code",
   "execution_count": 6,
   "metadata": {},
   "outputs": [
    {
     "name": "stdout",
     "output_type": "stream",
     "text": [
      "healthkit-to-sqlite /Users/mjboothaus/icloud/Data/apple_health_export/export.zip /Users/mjboothaus/icloud/Data/apple_health_export/healthkit_db.sqlite\n",
      "---------------------------------------------------------------------------------------------\n",
      "Please wait: converting healthkit export.zip to sqlite database (takes just over a minute)...\n"
     ]
    }
   ],
   "source": [
    "db_file, output = convert_healthkit_export_to_sqlite(export_zip)"
   ]
  },
  {
   "cell_type": "code",
   "execution_count": 7,
   "metadata": {},
   "outputs": [
    {
     "data": {
      "text/plain": [
       "'/Users/mjboothaus/icloud/Data/apple_health_export/healthkit_db_2022_05_11.sqlite'"
      ]
     },
     "execution_count": 7,
     "metadata": {},
     "output_type": "execute_result"
    }
   ],
   "source": [
    "db_file"
   ]
  },
  {
   "cell_type": "code",
   "execution_count": 8,
   "metadata": {},
   "outputs": [],
   "source": [
    "def create_df_from_sql_query_in_file(filename_dot_sql, conn, parse_dates):\n",
    "\n",
    "    query_file = Path.cwd().parent / \"sql\" / filename_dot_sql\n",
    "\n",
    "    with open(query_file, 'r') as query:\n",
    "        sql_text = query.read()\n",
    "        print(sql_text)\n",
    "        df = pd.read_sql_query(sql_text, conn, parse_dates=parse_dates)\n",
    "    return df"
   ]
  },
  {
   "cell_type": "code",
   "execution_count": 9,
   "metadata": {},
   "outputs": [],
   "source": [
    "db = Database(db_file)"
   ]
  },
  {
   "cell_type": "code",
   "execution_count": 10,
   "metadata": {},
   "outputs": [
    {
     "name": "stdout",
     "output_type": "stream",
     "text": [
      "select\n",
      "    id as workout_id,\n",
      "    duration as duration_minutes,\n",
      "    totaldistance as totaldistance_km,\n",
      "    totalenergyburned as totalenergyburned_kJ,\n",
      "    sourcename,\n",
      "    sourceversion,\n",
      "    startdate,\n",
      "    enddate,\n",
      "    metadata_hkweathertemperature,\n",
      "    metadata_hkweatherhumidity,\n",
      "    metadata_hkelevationascended,\n",
      "    metadata_hkaveragemets\n",
      "from\n",
      "    workouts\n",
      "where workoutactivitytype = \"HKWorkoutActivityTypeWalking\" order by id\n",
      "\n",
      "\n",
      " /* Excluded fields:\n",
      "    workoutactivitytype,   # just walking\n",
      "    durationunit,          # fixed - min\n",
      "    totaldistanceunit,     # fixed - km\n",
      "    totalenergyburnedunit, # fixed - kJ\n",
      "    device,\n",
      "    creationdate,          # not really of interest (start date instead)\n",
      "    workout_events,        # think this is redundant info (need to check - JSON?)\n",
      "    metadata_hkgroupfitness,\n",
      "    metadata_hkworkoutbrandname,\n",
      "    metadata_hktimezone,\n",
      "    metadata_hkcoachedworkout,\n",
      "    metadata_hkwasuserentered,\n",
      "    metadata_hkindoorworkout,\n",
      "    metadata_hkelevationascended,\n",
      "    metadata_hkswimminglocationtype,\n",
      "    metadata_hkaveragemets,\n",
      "    metadata_healthfit_sub_sport,\n",
      "    metadata_healthfit_route,\n",
      "    metadata_healthfit_file_type,\n",
      "    metadata_hkmaximumspeed,\n",
      "    metadata_healthfit_total_moving_time,\n",
      "    metadata_healthfit_total_distance,\n",
      "    metadata_healthfit_max_running_cadence,\n",
      "    metadata_healthfit_min_altitude,\n",
      "    metadata_healthfit_avg_running_cadence,\n",
      "    metadata_healthfit_app_build,\n",
      "    metadata_healthfit_fit_sport,\n",
      "    metadata_healthfit_fit_sub_sport,\n",
      "    metadata_healthfit_max_altitude,\n",
      "    metadata_healthfit_fit_manufacturer,\n",
      "    metadata_healthfit_total_strides,\n",
      "    metadata_healthfit_fit_serial_number,\n",
      "    metadata_healthfit_sport,\n",
      "    metadata_hkaveragespeed,\n",
      "    metadata_healthfit_app_version,\n",
      "    metadata_hkexternaluuid\n",
      " */\n",
      "\n"
     ]
    }
   ],
   "source": [
    "workouts_df = create_df_from_sql_query_in_file(\"select_star_walking_workouts.sql\", db.conn, ['startDate', 'endDate'])"
   ]
  },
  {
   "cell_type": "code",
   "execution_count": 11,
   "metadata": {},
   "outputs": [
    {
     "data": {
      "text/html": [
       "<div>\n",
       "<style scoped>\n",
       "    .dataframe tbody tr th:only-of-type {\n",
       "        vertical-align: middle;\n",
       "    }\n",
       "\n",
       "    .dataframe tbody tr th {\n",
       "        vertical-align: top;\n",
       "    }\n",
       "\n",
       "    .dataframe thead th {\n",
       "        text-align: right;\n",
       "    }\n",
       "</style>\n",
       "<table border=\"1\" class=\"dataframe\">\n",
       "  <thead>\n",
       "    <tr style=\"text-align: right;\">\n",
       "      <th></th>\n",
       "      <th>workout_id</th>\n",
       "      <th>duration_minutes</th>\n",
       "      <th>totaldistance_km</th>\n",
       "      <th>totalenergyburned_kJ</th>\n",
       "      <th>sourceName</th>\n",
       "      <th>sourceVersion</th>\n",
       "      <th>startDate</th>\n",
       "      <th>endDate</th>\n",
       "      <th>metadata_HKWeatherTemperature</th>\n",
       "      <th>metadata_HKWeatherHumidity</th>\n",
       "      <th>metadata_HKElevationAscended</th>\n",
       "      <th>metadata_HKAverageMETs</th>\n",
       "    </tr>\n",
       "  </thead>\n",
       "  <tbody>\n",
       "    <tr>\n",
       "      <th>0</th>\n",
       "      <td>00340675e4ce8dbe420be499fec61064f1fe6181</td>\n",
       "      <td>39.56012303233147</td>\n",
       "      <td>1.655609837202355</td>\n",
       "      <td>805.8203208498522</td>\n",
       "      <td>Michael and Ai Leen’s Apple Watch</td>\n",
       "      <td>5.1.1</td>\n",
       "      <td>2018-12-12 12:02:43+10:00</td>\n",
       "      <td>2018-12-12 12:42:17+10:00</td>\n",
       "      <td>73 degF</td>\n",
       "      <td>6600 %</td>\n",
       "      <td>6742 cm</td>\n",
       "      <td>None</td>\n",
       "    </tr>\n",
       "    <tr>\n",
       "      <th>1</th>\n",
       "      <td>0194ee8d2c587a5f60bf52bc29ad48732f6577c1</td>\n",
       "      <td>377.0199567496776</td>\n",
       "      <td>21.23662400489231</td>\n",
       "      <td>11479.84601564049</td>\n",
       "      <td>Michael and Ai Leen’s Apple Watch</td>\n",
       "      <td>8.0</td>\n",
       "      <td>2021-10-15 07:29:58+10:00</td>\n",
       "      <td>2021-10-15 13:46:59+10:00</td>\n",
       "      <td>57.2 degF</td>\n",
       "      <td>7200 %</td>\n",
       "      <td>84570 cm</td>\n",
       "      <td>5.09913 kcal/hr·kg</td>\n",
       "    </tr>\n",
       "    <tr>\n",
       "      <th>2</th>\n",
       "      <td>01a008d304689e9c4f33d39a834448dc87de1f3d</td>\n",
       "      <td>73.05824839870135</td>\n",
       "      <td>7.151453514377587</td>\n",
       "      <td>2437.193206995518</td>\n",
       "      <td>Michael and Ai Leen’s Apple Watch</td>\n",
       "      <td>5.2.1</td>\n",
       "      <td>2019-07-22 13:27:06+10:00</td>\n",
       "      <td>2019-07-22 14:40:10+10:00</td>\n",
       "      <td>72 degF</td>\n",
       "      <td>3400 %</td>\n",
       "      <td>3100 cm</td>\n",
       "      <td>None</td>\n",
       "    </tr>\n",
       "    <tr>\n",
       "      <th>3</th>\n",
       "      <td>02f4ac544c1e69e2d1bd28449d7d53e414dabf6f</td>\n",
       "      <td>37.22489701608817</td>\n",
       "      <td>2.167894573042402</td>\n",
       "      <td>562.8986240000003</td>\n",
       "      <td>Michael and Ai Leen’s Apple Watch</td>\n",
       "      <td>4.2</td>\n",
       "      <td>2017-12-28 16:39:12+10:00</td>\n",
       "      <td>2017-12-28 17:16:25+10:00</td>\n",
       "      <td>80 degF</td>\n",
       "      <td>6500 %</td>\n",
       "      <td>None</td>\n",
       "      <td>None</td>\n",
       "    </tr>\n",
       "    <tr>\n",
       "      <th>4</th>\n",
       "      <td>03feeff6f530f7ada4dc9f3fbbbaeef4c357eef0</td>\n",
       "      <td>45.25093293984731</td>\n",
       "      <td>2.445003094782327</td>\n",
       "      <td>1081.791941778821</td>\n",
       "      <td>Michael’s Apple Watch</td>\n",
       "      <td>8.0.1</td>\n",
       "      <td>2021-11-05 16:17:31+10:00</td>\n",
       "      <td>2021-11-05 17:02:46+10:00</td>\n",
       "      <td>71.6 degF</td>\n",
       "      <td>6700 %</td>\n",
       "      <td>3165 cm</td>\n",
       "      <td>3.91946 kcal/hr·kg</td>\n",
       "    </tr>\n",
       "  </tbody>\n",
       "</table>\n",
       "</div>"
      ],
      "text/plain": [
       "                                 workout_id   duration_minutes  \\\n",
       "0  00340675e4ce8dbe420be499fec61064f1fe6181  39.56012303233147   \n",
       "1  0194ee8d2c587a5f60bf52bc29ad48732f6577c1  377.0199567496776   \n",
       "2  01a008d304689e9c4f33d39a834448dc87de1f3d  73.05824839870135   \n",
       "3  02f4ac544c1e69e2d1bd28449d7d53e414dabf6f  37.22489701608817   \n",
       "4  03feeff6f530f7ada4dc9f3fbbbaeef4c357eef0  45.25093293984731   \n",
       "\n",
       "    totaldistance_km totalenergyburned_kJ                         sourceName  \\\n",
       "0  1.655609837202355    805.8203208498522  Michael and Ai Leen’s Apple Watch   \n",
       "1  21.23662400489231    11479.84601564049  Michael and Ai Leen’s Apple Watch   \n",
       "2  7.151453514377587    2437.193206995518  Michael and Ai Leen’s Apple Watch   \n",
       "3  2.167894573042402    562.8986240000003  Michael and Ai Leen’s Apple Watch   \n",
       "4  2.445003094782327    1081.791941778821              Michael’s Apple Watch   \n",
       "\n",
       "  sourceVersion                 startDate                   endDate  \\\n",
       "0         5.1.1 2018-12-12 12:02:43+10:00 2018-12-12 12:42:17+10:00   \n",
       "1           8.0 2021-10-15 07:29:58+10:00 2021-10-15 13:46:59+10:00   \n",
       "2         5.2.1 2019-07-22 13:27:06+10:00 2019-07-22 14:40:10+10:00   \n",
       "3           4.2 2017-12-28 16:39:12+10:00 2017-12-28 17:16:25+10:00   \n",
       "4         8.0.1 2021-11-05 16:17:31+10:00 2021-11-05 17:02:46+10:00   \n",
       "\n",
       "  metadata_HKWeatherTemperature metadata_HKWeatherHumidity  \\\n",
       "0                       73 degF                     6600 %   \n",
       "1                     57.2 degF                     7200 %   \n",
       "2                       72 degF                     3400 %   \n",
       "3                       80 degF                     6500 %   \n",
       "4                     71.6 degF                     6700 %   \n",
       "\n",
       "  metadata_HKElevationAscended metadata_HKAverageMETs  \n",
       "0                      6742 cm                   None  \n",
       "1                     84570 cm     5.09913 kcal/hr·kg  \n",
       "2                      3100 cm                   None  \n",
       "3                         None                   None  \n",
       "4                      3165 cm     3.91946 kcal/hr·kg  "
      ]
     },
     "execution_count": 11,
     "metadata": {},
     "output_type": "execute_result"
    }
   ],
   "source": [
    "workouts_df.head()"
   ]
  },
  {
   "cell_type": "code",
   "execution_count": 12,
   "metadata": {},
   "outputs": [
    {
     "name": "stdout",
     "output_type": "stream",
     "text": [
      "-- Get starting point for each workout\n",
      "select\n",
      "  start_datetime,\n",
      "  start_latitude,\n",
      "  start_longitude,\n",
      "  start_altitude,\n",
      "  start_speed,\n",
      "  workout_id\n",
      "from\n",
      "  (\n",
      "    select\n",
      "      date as start_datetime,\n",
      "      latitude as start_latitude,\n",
      "      longitude as start_longitude,\n",
      "      altitude as start_altitude,\n",
      "      speed as start_speed,\n",
      "      workout_id,\n",
      "      row_number() over (\n",
      "        partition by workout_id\n",
      "        order by\n",
      "          date asc\n",
      "      ) as date_rank\n",
      "    from\n",
      "      workout_points\n",
      "  )\n",
      "where\n",
      "  date_rank = 1\n"
     ]
    }
   ],
   "source": [
    "# Trying to find the start point in each walk workout -- as date is not a date field in db not clear if sort by date and limit 1 will work\n",
    "# might need to import table to pandas convert types and then export to db before doing query. Else use sqlite_utils to change column types.\n",
    "\n",
    "start_point_df = create_df_from_sql_query_in_file(\"select_start_point_workout.sql\", db.conn, ['date'])"
   ]
  },
  {
   "cell_type": "code",
   "execution_count": 13,
   "metadata": {},
   "outputs": [
    {
     "name": "stdout",
     "output_type": "stream",
     "text": [
      "<class 'pandas.core.frame.DataFrame'>\n",
      "RangeIndex: 772 entries, 0 to 771\n",
      "Data columns (total 6 columns):\n",
      " #   Column           Non-Null Count  Dtype  \n",
      "---  ------           --------------  -----  \n",
      " 0   start_datetime   772 non-null    object \n",
      " 1   start_latitude   772 non-null    float64\n",
      " 2   start_longitude  772 non-null    float64\n",
      " 3   start_altitude   772 non-null    float64\n",
      " 4   start_speed      772 non-null    float64\n",
      " 5   workout_id       772 non-null    object \n",
      "dtypes: float64(4), object(2)\n",
      "memory usage: 36.3+ KB\n"
     ]
    }
   ],
   "source": [
    "start_point_df.info()"
   ]
  },
  {
   "cell_type": "code",
   "execution_count": 14,
   "metadata": {},
   "outputs": [
    {
     "data": {
      "text/html": [
       "<div>\n",
       "<style scoped>\n",
       "    .dataframe tbody tr th:only-of-type {\n",
       "        vertical-align: middle;\n",
       "    }\n",
       "\n",
       "    .dataframe tbody tr th {\n",
       "        vertical-align: top;\n",
       "    }\n",
       "\n",
       "    .dataframe thead th {\n",
       "        text-align: right;\n",
       "    }\n",
       "</style>\n",
       "<table border=\"1\" class=\"dataframe\">\n",
       "  <thead>\n",
       "    <tr style=\"text-align: right;\">\n",
       "      <th></th>\n",
       "      <th>start_datetime</th>\n",
       "      <th>start_latitude</th>\n",
       "      <th>start_longitude</th>\n",
       "      <th>start_altitude</th>\n",
       "      <th>start_speed</th>\n",
       "      <th>workout_id</th>\n",
       "    </tr>\n",
       "  </thead>\n",
       "  <tbody>\n",
       "    <tr>\n",
       "      <th>0</th>\n",
       "      <td>2018-12-12T02:02:49Z</td>\n",
       "      <td>-36.828834</td>\n",
       "      <td>174.797829</td>\n",
       "      <td>22.545229</td>\n",
       "      <td>1.140843</td>\n",
       "      <td>00340675e4ce8dbe420be499fec61064f1fe6181</td>\n",
       "    </tr>\n",
       "    <tr>\n",
       "      <th>1</th>\n",
       "      <td>2021-10-17T02:10:37Z</td>\n",
       "      <td>-33.839599</td>\n",
       "      <td>151.169671</td>\n",
       "      <td>-7.832549</td>\n",
       "      <td>0.025052</td>\n",
       "      <td>01803c1598592000aa9a56d529426db9b0e2900b</td>\n",
       "    </tr>\n",
       "    <tr>\n",
       "      <th>2</th>\n",
       "      <td>2021-10-14T21:29:57Z</td>\n",
       "      <td>-33.768678</td>\n",
       "      <td>150.619695</td>\n",
       "      <td>169.713440</td>\n",
       "      <td>0.159099</td>\n",
       "      <td>0194ee8d2c587a5f60bf52bc29ad48732f6577c1</td>\n",
       "    </tr>\n",
       "    <tr>\n",
       "      <th>3</th>\n",
       "      <td>2019-07-22T03:27:12Z</td>\n",
       "      <td>-33.856203</td>\n",
       "      <td>151.158288</td>\n",
       "      <td>23.493387</td>\n",
       "      <td>1.249567</td>\n",
       "      <td>01a008d304689e9c4f33d39a834448dc87de1f3d</td>\n",
       "    </tr>\n",
       "    <tr>\n",
       "      <th>4</th>\n",
       "      <td>2017-08-12T23:15:38Z</td>\n",
       "      <td>-33.847686</td>\n",
       "      <td>151.153258</td>\n",
       "      <td>-16.533785</td>\n",
       "      <td>1.918036</td>\n",
       "      <td>024aa33aaf0f6023cd9b54e1a2ffa7e9fe27d935</td>\n",
       "    </tr>\n",
       "  </tbody>\n",
       "</table>\n",
       "</div>"
      ],
      "text/plain": [
       "         start_datetime  start_latitude  start_longitude  start_altitude  \\\n",
       "0  2018-12-12T02:02:49Z      -36.828834       174.797829       22.545229   \n",
       "1  2021-10-17T02:10:37Z      -33.839599       151.169671       -7.832549   \n",
       "2  2021-10-14T21:29:57Z      -33.768678       150.619695      169.713440   \n",
       "3  2019-07-22T03:27:12Z      -33.856203       151.158288       23.493387   \n",
       "4  2017-08-12T23:15:38Z      -33.847686       151.153258      -16.533785   \n",
       "\n",
       "   start_speed                                workout_id  \n",
       "0     1.140843  00340675e4ce8dbe420be499fec61064f1fe6181  \n",
       "1     0.025052  01803c1598592000aa9a56d529426db9b0e2900b  \n",
       "2     0.159099  0194ee8d2c587a5f60bf52bc29ad48732f6577c1  \n",
       "3     1.249567  01a008d304689e9c4f33d39a834448dc87de1f3d  \n",
       "4     1.918036  024aa33aaf0f6023cd9b54e1a2ffa7e9fe27d935  "
      ]
     },
     "execution_count": 14,
     "metadata": {},
     "output_type": "execute_result"
    }
   ],
   "source": [
    "start_point_df.head()"
   ]
  },
  {
   "cell_type": "code",
   "execution_count": 15,
   "metadata": {},
   "outputs": [
    {
     "name": "stdout",
     "output_type": "stream",
     "text": [
      "-- Get finishing point for each workout\n",
      "select\n",
      "  finish_datetime,\n",
      "  finish_latitude,\n",
      "  finish_longitude,\n",
      "  finish_altitude,\n",
      "  finish_speed,\n",
      "  workout_id\n",
      "from\n",
      "  (\n",
      "    select\n",
      "      date as finish_datetime,\n",
      "      latitude as finish_latitude,\n",
      "      longitude as finish_longitude,\n",
      "      altitude as finish_altitude,\n",
      "      speed as finish_speed,\n",
      "      workout_id,\n",
      "      row_number() over (\n",
      "        partition by workout_id\n",
      "        order by\n",
      "          date desc\n",
      "      ) as date_rank\n",
      "    from\n",
      "      workout_points\n",
      "  )\n",
      "where\n",
      "  date_rank = 1\n"
     ]
    }
   ],
   "source": [
    "finish_point_df = create_df_from_sql_query_in_file(\"select_finish_point_workout.sql\", db.conn, ['date'])"
   ]
  },
  {
   "cell_type": "code",
   "execution_count": 16,
   "metadata": {},
   "outputs": [
    {
     "data": {
      "text/html": [
       "<div>\n",
       "<style scoped>\n",
       "    .dataframe tbody tr th:only-of-type {\n",
       "        vertical-align: middle;\n",
       "    }\n",
       "\n",
       "    .dataframe tbody tr th {\n",
       "        vertical-align: top;\n",
       "    }\n",
       "\n",
       "    .dataframe thead th {\n",
       "        text-align: right;\n",
       "    }\n",
       "</style>\n",
       "<table border=\"1\" class=\"dataframe\">\n",
       "  <thead>\n",
       "    <tr style=\"text-align: right;\">\n",
       "      <th></th>\n",
       "      <th>finish_datetime</th>\n",
       "      <th>finish_latitude</th>\n",
       "      <th>finish_longitude</th>\n",
       "      <th>finish_altitude</th>\n",
       "      <th>finish_speed</th>\n",
       "      <th>workout_id</th>\n",
       "    </tr>\n",
       "  </thead>\n",
       "  <tbody>\n",
       "    <tr>\n",
       "      <th>0</th>\n",
       "      <td>2018-12-12T02:40:16Z</td>\n",
       "      <td>-36.831425</td>\n",
       "      <td>174.797488</td>\n",
       "      <td>11.966413</td>\n",
       "      <td>0.646744</td>\n",
       "      <td>00340675e4ce8dbe420be499fec61064f1fe6181</td>\n",
       "    </tr>\n",
       "    <tr>\n",
       "      <th>1</th>\n",
       "      <td>2021-10-17T02:24:46Z</td>\n",
       "      <td>-33.839389</td>\n",
       "      <td>151.169714</td>\n",
       "      <td>1.235013</td>\n",
       "      <td>0.529916</td>\n",
       "      <td>01803c1598592000aa9a56d529426db9b0e2900b</td>\n",
       "    </tr>\n",
       "    <tr>\n",
       "      <th>2</th>\n",
       "      <td>2021-10-15T02:38:33Z</td>\n",
       "      <td>-33.762980</td>\n",
       "      <td>150.512678</td>\n",
       "      <td>504.802399</td>\n",
       "      <td>1.227253</td>\n",
       "      <td>0194ee8d2c587a5f60bf52bc29ad48732f6577c1</td>\n",
       "    </tr>\n",
       "    <tr>\n",
       "      <th>3</th>\n",
       "      <td>2019-07-22T04:40:09Z</td>\n",
       "      <td>-33.856201</td>\n",
       "      <td>151.158183</td>\n",
       "      <td>9.002841</td>\n",
       "      <td>1.459583</td>\n",
       "      <td>01a008d304689e9c4f33d39a834448dc87de1f3d</td>\n",
       "    </tr>\n",
       "    <tr>\n",
       "      <th>4</th>\n",
       "      <td>2017-08-12T23:17:12Z</td>\n",
       "      <td>-33.849632</td>\n",
       "      <td>151.154144</td>\n",
       "      <td>-22.330360</td>\n",
       "      <td>2.512069</td>\n",
       "      <td>024aa33aaf0f6023cd9b54e1a2ffa7e9fe27d935</td>\n",
       "    </tr>\n",
       "  </tbody>\n",
       "</table>\n",
       "</div>"
      ],
      "text/plain": [
       "        finish_datetime  finish_latitude  finish_longitude  finish_altitude  \\\n",
       "0  2018-12-12T02:40:16Z       -36.831425        174.797488        11.966413   \n",
       "1  2021-10-17T02:24:46Z       -33.839389        151.169714         1.235013   \n",
       "2  2021-10-15T02:38:33Z       -33.762980        150.512678       504.802399   \n",
       "3  2019-07-22T04:40:09Z       -33.856201        151.158183         9.002841   \n",
       "4  2017-08-12T23:17:12Z       -33.849632        151.154144       -22.330360   \n",
       "\n",
       "   finish_speed                                workout_id  \n",
       "0      0.646744  00340675e4ce8dbe420be499fec61064f1fe6181  \n",
       "1      0.529916  01803c1598592000aa9a56d529426db9b0e2900b  \n",
       "2      1.227253  0194ee8d2c587a5f60bf52bc29ad48732f6577c1  \n",
       "3      1.459583  01a008d304689e9c4f33d39a834448dc87de1f3d  \n",
       "4      2.512069  024aa33aaf0f6023cd9b54e1a2ffa7e9fe27d935  "
      ]
     },
     "execution_count": 16,
     "metadata": {},
     "output_type": "execute_result"
    }
   ],
   "source": [
    "finish_point_df.head()"
   ]
  },
  {
   "cell_type": "code",
   "execution_count": 17,
   "metadata": {},
   "outputs": [],
   "source": [
    "walk_info_df = start_point_df.merge(finish_point_df, how='inner', on='workout_id')"
   ]
  },
  {
   "cell_type": "code",
   "execution_count": 18,
   "metadata": {},
   "outputs": [],
   "source": [
    "def get_location(latitude, longitude):\n",
    "    location = rg.search((latitude, longitude))\n",
    "    return [location[0]['name'], location[0]['admin1'], location[0]['cc']]"
   ]
  },
  {
   "cell_type": "code",
   "execution_count": 19,
   "metadata": {},
   "outputs": [
    {
     "name": "stdout",
     "output_type": "stream",
     "text": [
      "Loading formatted geocoded file...\n"
     ]
    }
   ],
   "source": [
    "walk_info_df['start_location'] = walk_info_df.apply(lambda row: get_location(float(row['start_latitude']), float(row['start_longitude'])), axis=1)"
   ]
  },
  {
   "cell_type": "code",
   "execution_count": 20,
   "metadata": {},
   "outputs": [],
   "source": [
    "walk_info_df['finish_location'] = walk_info_df.apply(lambda row: get_location(float(row['finish_latitude']), float(row['finish_longitude'])), axis=1)"
   ]
  },
  {
   "cell_type": "code",
   "execution_count": 21,
   "metadata": {},
   "outputs": [
    {
     "data": {
      "text/html": [
       "<div>\n",
       "<style scoped>\n",
       "    .dataframe tbody tr th:only-of-type {\n",
       "        vertical-align: middle;\n",
       "    }\n",
       "\n",
       "    .dataframe tbody tr th {\n",
       "        vertical-align: top;\n",
       "    }\n",
       "\n",
       "    .dataframe thead th {\n",
       "        text-align: right;\n",
       "    }\n",
       "</style>\n",
       "<table border=\"1\" class=\"dataframe\">\n",
       "  <thead>\n",
       "    <tr style=\"text-align: right;\">\n",
       "      <th></th>\n",
       "      <th>start_datetime</th>\n",
       "      <th>start_latitude</th>\n",
       "      <th>start_longitude</th>\n",
       "      <th>start_altitude</th>\n",
       "      <th>start_speed</th>\n",
       "      <th>workout_id</th>\n",
       "      <th>finish_datetime</th>\n",
       "      <th>finish_latitude</th>\n",
       "      <th>finish_longitude</th>\n",
       "      <th>finish_altitude</th>\n",
       "      <th>finish_speed</th>\n",
       "      <th>start_location</th>\n",
       "      <th>finish_location</th>\n",
       "    </tr>\n",
       "  </thead>\n",
       "  <tbody>\n",
       "    <tr>\n",
       "      <th>0</th>\n",
       "      <td>2018-12-12T02:02:49Z</td>\n",
       "      <td>-36.828834</td>\n",
       "      <td>174.797829</td>\n",
       "      <td>22.545229</td>\n",
       "      <td>1.140843</td>\n",
       "      <td>00340675e4ce8dbe420be499fec61064f1fe6181</td>\n",
       "      <td>2018-12-12T02:40:16Z</td>\n",
       "      <td>-36.831425</td>\n",
       "      <td>174.797488</td>\n",
       "      <td>11.966413</td>\n",
       "      <td>0.646744</td>\n",
       "      <td>[Auckland, Auckland, NZ]</td>\n",
       "      <td>[Auckland, Auckland, NZ]</td>\n",
       "    </tr>\n",
       "    <tr>\n",
       "      <th>1</th>\n",
       "      <td>2021-10-17T02:10:37Z</td>\n",
       "      <td>-33.839599</td>\n",
       "      <td>151.169671</td>\n",
       "      <td>-7.832549</td>\n",
       "      <td>0.025052</td>\n",
       "      <td>01803c1598592000aa9a56d529426db9b0e2900b</td>\n",
       "      <td>2021-10-17T02:24:46Z</td>\n",
       "      <td>-33.839389</td>\n",
       "      <td>151.169714</td>\n",
       "      <td>1.235013</td>\n",
       "      <td>0.529916</td>\n",
       "      <td>[Longueville, New South Wales, AU]</td>\n",
       "      <td>[Longueville, New South Wales, AU]</td>\n",
       "    </tr>\n",
       "    <tr>\n",
       "      <th>2</th>\n",
       "      <td>2021-10-14T21:29:57Z</td>\n",
       "      <td>-33.768678</td>\n",
       "      <td>150.619695</td>\n",
       "      <td>169.713440</td>\n",
       "      <td>0.159099</td>\n",
       "      <td>0194ee8d2c587a5f60bf52bc29ad48732f6577c1</td>\n",
       "      <td>2021-10-15T02:38:33Z</td>\n",
       "      <td>-33.762980</td>\n",
       "      <td>150.512678</td>\n",
       "      <td>504.802399</td>\n",
       "      <td>1.227253</td>\n",
       "      <td>[Glenbrook, New South Wales, AU]</td>\n",
       "      <td>[Hazelbrook, New South Wales, AU]</td>\n",
       "    </tr>\n",
       "    <tr>\n",
       "      <th>3</th>\n",
       "      <td>2019-07-22T03:27:12Z</td>\n",
       "      <td>-33.856203</td>\n",
       "      <td>151.158288</td>\n",
       "      <td>23.493387</td>\n",
       "      <td>1.249567</td>\n",
       "      <td>01a008d304689e9c4f33d39a834448dc87de1f3d</td>\n",
       "      <td>2019-07-22T04:40:09Z</td>\n",
       "      <td>-33.856201</td>\n",
       "      <td>151.158183</td>\n",
       "      <td>9.002841</td>\n",
       "      <td>1.459583</td>\n",
       "      <td>[Drummoyne, New South Wales, AU]</td>\n",
       "      <td>[Drummoyne, New South Wales, AU]</td>\n",
       "    </tr>\n",
       "    <tr>\n",
       "      <th>4</th>\n",
       "      <td>2017-08-12T23:15:38Z</td>\n",
       "      <td>-33.847686</td>\n",
       "      <td>151.153258</td>\n",
       "      <td>-16.533785</td>\n",
       "      <td>1.918036</td>\n",
       "      <td>024aa33aaf0f6023cd9b54e1a2ffa7e9fe27d935</td>\n",
       "      <td>2017-08-12T23:17:12Z</td>\n",
       "      <td>-33.849632</td>\n",
       "      <td>151.154144</td>\n",
       "      <td>-22.330360</td>\n",
       "      <td>2.512069</td>\n",
       "      <td>[Canada Bay, New South Wales, AU]</td>\n",
       "      <td>[Drummoyne, New South Wales, AU]</td>\n",
       "    </tr>\n",
       "    <tr>\n",
       "      <th>5</th>\n",
       "      <td>2017-12-28T06:39:19Z</td>\n",
       "      <td>-33.019214</td>\n",
       "      <td>151.687465</td>\n",
       "      <td>15.312214</td>\n",
       "      <td>0.910099</td>\n",
       "      <td>02f4ac544c1e69e2d1bd28449d7d53e414dabf6f</td>\n",
       "      <td>2017-12-28T07:16:26Z</td>\n",
       "      <td>-33.008561</td>\n",
       "      <td>151.706111</td>\n",
       "      <td>22.346874</td>\n",
       "      <td>0.365437</td>\n",
       "      <td>[Jewells, New South Wales, AU]</td>\n",
       "      <td>[Redhead, New South Wales, AU]</td>\n",
       "    </tr>\n",
       "    <tr>\n",
       "      <th>6</th>\n",
       "      <td>2021-11-05T06:27:42Z</td>\n",
       "      <td>-33.866904</td>\n",
       "      <td>151.207558</td>\n",
       "      <td>56.256950</td>\n",
       "      <td>0.611529</td>\n",
       "      <td>03feeff6f530f7ada4dc9f3fbbbaeef4c357eef0</td>\n",
       "      <td>2021-11-05T07:02:46Z</td>\n",
       "      <td>-33.873930</td>\n",
       "      <td>151.200567</td>\n",
       "      <td>36.064610</td>\n",
       "      <td>15.526350</td>\n",
       "      <td>[Sydney, New South Wales, AU]</td>\n",
       "      <td>[Haymarket, New South Wales, AU]</td>\n",
       "    </tr>\n",
       "    <tr>\n",
       "      <th>7</th>\n",
       "      <td>2020-08-16T21:52:52Z</td>\n",
       "      <td>-33.852121</td>\n",
       "      <td>151.154849</td>\n",
       "      <td>27.937950</td>\n",
       "      <td>1.825035</td>\n",
       "      <td>042dbfd0cf540c6de30fe9c511e614907b748550</td>\n",
       "      <td>2020-08-16T23:02:31Z</td>\n",
       "      <td>-33.847096</td>\n",
       "      <td>151.152861</td>\n",
       "      <td>21.919920</td>\n",
       "      <td>0.000000</td>\n",
       "      <td>[Drummoyne, New South Wales, AU]</td>\n",
       "      <td>[Canada Bay, New South Wales, AU]</td>\n",
       "    </tr>\n",
       "    <tr>\n",
       "      <th>8</th>\n",
       "      <td>2018-10-26T23:03:00Z</td>\n",
       "      <td>-33.792994</td>\n",
       "      <td>151.156094</td>\n",
       "      <td>19.478712</td>\n",
       "      <td>0.219718</td>\n",
       "      <td>04c2e8bf2e2685f2745bd250dca9e798bbc7080e</td>\n",
       "      <td>2018-10-27T02:32:19Z</td>\n",
       "      <td>-33.773364</td>\n",
       "      <td>151.139517</td>\n",
       "      <td>55.003124</td>\n",
       "      <td>0.226333</td>\n",
       "      <td>[Chatswood West, New South Wales, AU]</td>\n",
       "      <td>[Killara, New South Wales, AU]</td>\n",
       "    </tr>\n",
       "    <tr>\n",
       "      <th>9</th>\n",
       "      <td>2021-10-31T18:38:21Z</td>\n",
       "      <td>-32.959781</td>\n",
       "      <td>151.198376</td>\n",
       "      <td>165.213760</td>\n",
       "      <td>0.264564</td>\n",
       "      <td>0551ef0c3a8736ee14a81dd9eded8f0606090701</td>\n",
       "      <td>2021-10-31T21:20:43Z</td>\n",
       "      <td>-32.937847</td>\n",
       "      <td>151.142218</td>\n",
       "      <td>111.341309</td>\n",
       "      <td>0.000538</td>\n",
       "      <td>[Cessnock, New South Wales, AU]</td>\n",
       "      <td>[Cessnock, New South Wales, AU]</td>\n",
       "    </tr>\n",
       "  </tbody>\n",
       "</table>\n",
       "</div>"
      ],
      "text/plain": [
       "         start_datetime  start_latitude  start_longitude  start_altitude  \\\n",
       "0  2018-12-12T02:02:49Z      -36.828834       174.797829       22.545229   \n",
       "1  2021-10-17T02:10:37Z      -33.839599       151.169671       -7.832549   \n",
       "2  2021-10-14T21:29:57Z      -33.768678       150.619695      169.713440   \n",
       "3  2019-07-22T03:27:12Z      -33.856203       151.158288       23.493387   \n",
       "4  2017-08-12T23:15:38Z      -33.847686       151.153258      -16.533785   \n",
       "5  2017-12-28T06:39:19Z      -33.019214       151.687465       15.312214   \n",
       "6  2021-11-05T06:27:42Z      -33.866904       151.207558       56.256950   \n",
       "7  2020-08-16T21:52:52Z      -33.852121       151.154849       27.937950   \n",
       "8  2018-10-26T23:03:00Z      -33.792994       151.156094       19.478712   \n",
       "9  2021-10-31T18:38:21Z      -32.959781       151.198376      165.213760   \n",
       "\n",
       "   start_speed                                workout_id  \\\n",
       "0     1.140843  00340675e4ce8dbe420be499fec61064f1fe6181   \n",
       "1     0.025052  01803c1598592000aa9a56d529426db9b0e2900b   \n",
       "2     0.159099  0194ee8d2c587a5f60bf52bc29ad48732f6577c1   \n",
       "3     1.249567  01a008d304689e9c4f33d39a834448dc87de1f3d   \n",
       "4     1.918036  024aa33aaf0f6023cd9b54e1a2ffa7e9fe27d935   \n",
       "5     0.910099  02f4ac544c1e69e2d1bd28449d7d53e414dabf6f   \n",
       "6     0.611529  03feeff6f530f7ada4dc9f3fbbbaeef4c357eef0   \n",
       "7     1.825035  042dbfd0cf540c6de30fe9c511e614907b748550   \n",
       "8     0.219718  04c2e8bf2e2685f2745bd250dca9e798bbc7080e   \n",
       "9     0.264564  0551ef0c3a8736ee14a81dd9eded8f0606090701   \n",
       "\n",
       "        finish_datetime  finish_latitude  finish_longitude  finish_altitude  \\\n",
       "0  2018-12-12T02:40:16Z       -36.831425        174.797488        11.966413   \n",
       "1  2021-10-17T02:24:46Z       -33.839389        151.169714         1.235013   \n",
       "2  2021-10-15T02:38:33Z       -33.762980        150.512678       504.802399   \n",
       "3  2019-07-22T04:40:09Z       -33.856201        151.158183         9.002841   \n",
       "4  2017-08-12T23:17:12Z       -33.849632        151.154144       -22.330360   \n",
       "5  2017-12-28T07:16:26Z       -33.008561        151.706111        22.346874   \n",
       "6  2021-11-05T07:02:46Z       -33.873930        151.200567        36.064610   \n",
       "7  2020-08-16T23:02:31Z       -33.847096        151.152861        21.919920   \n",
       "8  2018-10-27T02:32:19Z       -33.773364        151.139517        55.003124   \n",
       "9  2021-10-31T21:20:43Z       -32.937847        151.142218       111.341309   \n",
       "\n",
       "   finish_speed                         start_location  \\\n",
       "0      0.646744               [Auckland, Auckland, NZ]   \n",
       "1      0.529916     [Longueville, New South Wales, AU]   \n",
       "2      1.227253       [Glenbrook, New South Wales, AU]   \n",
       "3      1.459583       [Drummoyne, New South Wales, AU]   \n",
       "4      2.512069      [Canada Bay, New South Wales, AU]   \n",
       "5      0.365437         [Jewells, New South Wales, AU]   \n",
       "6     15.526350          [Sydney, New South Wales, AU]   \n",
       "7      0.000000       [Drummoyne, New South Wales, AU]   \n",
       "8      0.226333  [Chatswood West, New South Wales, AU]   \n",
       "9      0.000538        [Cessnock, New South Wales, AU]   \n",
       "\n",
       "                      finish_location  \n",
       "0            [Auckland, Auckland, NZ]  \n",
       "1  [Longueville, New South Wales, AU]  \n",
       "2   [Hazelbrook, New South Wales, AU]  \n",
       "3    [Drummoyne, New South Wales, AU]  \n",
       "4    [Drummoyne, New South Wales, AU]  \n",
       "5      [Redhead, New South Wales, AU]  \n",
       "6    [Haymarket, New South Wales, AU]  \n",
       "7   [Canada Bay, New South Wales, AU]  \n",
       "8      [Killara, New South Wales, AU]  \n",
       "9     [Cessnock, New South Wales, AU]  "
      ]
     },
     "execution_count": 21,
     "metadata": {},
     "output_type": "execute_result"
    }
   ],
   "source": [
    "walk_info_df.head(10)"
   ]
  },
  {
   "cell_type": "code",
   "execution_count": 22,
   "metadata": {},
   "outputs": [],
   "source": [
    "def calculate_elapsed_time_minutes(finish_datetime, start_datetime):\n",
    "    dt = pendulum.parse(finish_datetime) - pendulum.parse(start_datetime)\n",
    "    return float(dt.in_seconds() / 60 / 60)"
   ]
  },
  {
   "cell_type": "code",
   "execution_count": 23,
   "metadata": {},
   "outputs": [],
   "source": [
    "walk_info_df['elapsed_time_hours'] = walk_info_df.apply(lambda row: calculate_elapsed_time_minutes(row['finish_datetime'], row['start_datetime']), axis=1)"
   ]
  },
  {
   "cell_type": "code",
   "execution_count": 24,
   "metadata": {},
   "outputs": [],
   "source": [
    "walk_info_df['start_datetime'] = walk_info_df['start_datetime'].apply(lambda dt: pendulum.parse(dt, tz=\"Australia/Sydney\").to_datetime_string())    # TODO: Need to convert from UTC to Sydney local time?"
   ]
  },
  {
   "cell_type": "code",
   "execution_count": 25,
   "metadata": {},
   "outputs": [
    {
     "data": {
      "text/html": [
       "<div>\n",
       "<style scoped>\n",
       "    .dataframe tbody tr th:only-of-type {\n",
       "        vertical-align: middle;\n",
       "    }\n",
       "\n",
       "    .dataframe tbody tr th {\n",
       "        vertical-align: top;\n",
       "    }\n",
       "\n",
       "    .dataframe thead th {\n",
       "        text-align: right;\n",
       "    }\n",
       "</style>\n",
       "<table border=\"1\" class=\"dataframe\">\n",
       "  <thead>\n",
       "    <tr style=\"text-align: right;\">\n",
       "      <th></th>\n",
       "      <th>start_datetime</th>\n",
       "      <th>start_latitude</th>\n",
       "      <th>start_longitude</th>\n",
       "      <th>start_altitude</th>\n",
       "      <th>start_speed</th>\n",
       "      <th>workout_id</th>\n",
       "      <th>finish_datetime</th>\n",
       "      <th>finish_latitude</th>\n",
       "      <th>finish_longitude</th>\n",
       "      <th>finish_altitude</th>\n",
       "      <th>finish_speed</th>\n",
       "      <th>start_location</th>\n",
       "      <th>finish_location</th>\n",
       "      <th>elapsed_time_hours</th>\n",
       "    </tr>\n",
       "  </thead>\n",
       "  <tbody>\n",
       "    <tr>\n",
       "      <th>0</th>\n",
       "      <td>2018-12-12 02:02:49</td>\n",
       "      <td>-36.828834</td>\n",
       "      <td>174.797829</td>\n",
       "      <td>22.545229</td>\n",
       "      <td>1.140843</td>\n",
       "      <td>00340675e4ce8dbe420be499fec61064f1fe6181</td>\n",
       "      <td>2018-12-12T02:40:16Z</td>\n",
       "      <td>-36.831425</td>\n",
       "      <td>174.797488</td>\n",
       "      <td>11.966413</td>\n",
       "      <td>0.646744</td>\n",
       "      <td>[Auckland, Auckland, NZ]</td>\n",
       "      <td>[Auckland, Auckland, NZ]</td>\n",
       "      <td>0.624167</td>\n",
       "    </tr>\n",
       "    <tr>\n",
       "      <th>1</th>\n",
       "      <td>2021-10-17 02:10:37</td>\n",
       "      <td>-33.839599</td>\n",
       "      <td>151.169671</td>\n",
       "      <td>-7.832549</td>\n",
       "      <td>0.025052</td>\n",
       "      <td>01803c1598592000aa9a56d529426db9b0e2900b</td>\n",
       "      <td>2021-10-17T02:24:46Z</td>\n",
       "      <td>-33.839389</td>\n",
       "      <td>151.169714</td>\n",
       "      <td>1.235013</td>\n",
       "      <td>0.529916</td>\n",
       "      <td>[Longueville, New South Wales, AU]</td>\n",
       "      <td>[Longueville, New South Wales, AU]</td>\n",
       "      <td>0.235833</td>\n",
       "    </tr>\n",
       "    <tr>\n",
       "      <th>2</th>\n",
       "      <td>2021-10-14 21:29:57</td>\n",
       "      <td>-33.768678</td>\n",
       "      <td>150.619695</td>\n",
       "      <td>169.713440</td>\n",
       "      <td>0.159099</td>\n",
       "      <td>0194ee8d2c587a5f60bf52bc29ad48732f6577c1</td>\n",
       "      <td>2021-10-15T02:38:33Z</td>\n",
       "      <td>-33.762980</td>\n",
       "      <td>150.512678</td>\n",
       "      <td>504.802399</td>\n",
       "      <td>1.227253</td>\n",
       "      <td>[Glenbrook, New South Wales, AU]</td>\n",
       "      <td>[Hazelbrook, New South Wales, AU]</td>\n",
       "      <td>5.143333</td>\n",
       "    </tr>\n",
       "    <tr>\n",
       "      <th>3</th>\n",
       "      <td>2019-07-22 03:27:12</td>\n",
       "      <td>-33.856203</td>\n",
       "      <td>151.158288</td>\n",
       "      <td>23.493387</td>\n",
       "      <td>1.249567</td>\n",
       "      <td>01a008d304689e9c4f33d39a834448dc87de1f3d</td>\n",
       "      <td>2019-07-22T04:40:09Z</td>\n",
       "      <td>-33.856201</td>\n",
       "      <td>151.158183</td>\n",
       "      <td>9.002841</td>\n",
       "      <td>1.459583</td>\n",
       "      <td>[Drummoyne, New South Wales, AU]</td>\n",
       "      <td>[Drummoyne, New South Wales, AU]</td>\n",
       "      <td>1.215833</td>\n",
       "    </tr>\n",
       "    <tr>\n",
       "      <th>4</th>\n",
       "      <td>2017-08-12 23:15:38</td>\n",
       "      <td>-33.847686</td>\n",
       "      <td>151.153258</td>\n",
       "      <td>-16.533785</td>\n",
       "      <td>1.918036</td>\n",
       "      <td>024aa33aaf0f6023cd9b54e1a2ffa7e9fe27d935</td>\n",
       "      <td>2017-08-12T23:17:12Z</td>\n",
       "      <td>-33.849632</td>\n",
       "      <td>151.154144</td>\n",
       "      <td>-22.330360</td>\n",
       "      <td>2.512069</td>\n",
       "      <td>[Canada Bay, New South Wales, AU]</td>\n",
       "      <td>[Drummoyne, New South Wales, AU]</td>\n",
       "      <td>0.026111</td>\n",
       "    </tr>\n",
       "  </tbody>\n",
       "</table>\n",
       "</div>"
      ],
      "text/plain": [
       "        start_datetime  start_latitude  start_longitude  start_altitude  \\\n",
       "0  2018-12-12 02:02:49      -36.828834       174.797829       22.545229   \n",
       "1  2021-10-17 02:10:37      -33.839599       151.169671       -7.832549   \n",
       "2  2021-10-14 21:29:57      -33.768678       150.619695      169.713440   \n",
       "3  2019-07-22 03:27:12      -33.856203       151.158288       23.493387   \n",
       "4  2017-08-12 23:15:38      -33.847686       151.153258      -16.533785   \n",
       "\n",
       "   start_speed                                workout_id  \\\n",
       "0     1.140843  00340675e4ce8dbe420be499fec61064f1fe6181   \n",
       "1     0.025052  01803c1598592000aa9a56d529426db9b0e2900b   \n",
       "2     0.159099  0194ee8d2c587a5f60bf52bc29ad48732f6577c1   \n",
       "3     1.249567  01a008d304689e9c4f33d39a834448dc87de1f3d   \n",
       "4     1.918036  024aa33aaf0f6023cd9b54e1a2ffa7e9fe27d935   \n",
       "\n",
       "        finish_datetime  finish_latitude  finish_longitude  finish_altitude  \\\n",
       "0  2018-12-12T02:40:16Z       -36.831425        174.797488        11.966413   \n",
       "1  2021-10-17T02:24:46Z       -33.839389        151.169714         1.235013   \n",
       "2  2021-10-15T02:38:33Z       -33.762980        150.512678       504.802399   \n",
       "3  2019-07-22T04:40:09Z       -33.856201        151.158183         9.002841   \n",
       "4  2017-08-12T23:17:12Z       -33.849632        151.154144       -22.330360   \n",
       "\n",
       "   finish_speed                      start_location  \\\n",
       "0      0.646744            [Auckland, Auckland, NZ]   \n",
       "1      0.529916  [Longueville, New South Wales, AU]   \n",
       "2      1.227253    [Glenbrook, New South Wales, AU]   \n",
       "3      1.459583    [Drummoyne, New South Wales, AU]   \n",
       "4      2.512069   [Canada Bay, New South Wales, AU]   \n",
       "\n",
       "                      finish_location  elapsed_time_hours  \n",
       "0            [Auckland, Auckland, NZ]            0.624167  \n",
       "1  [Longueville, New South Wales, AU]            0.235833  \n",
       "2   [Hazelbrook, New South Wales, AU]            5.143333  \n",
       "3    [Drummoyne, New South Wales, AU]            1.215833  \n",
       "4    [Drummoyne, New South Wales, AU]            0.026111  "
      ]
     },
     "execution_count": 25,
     "metadata": {},
     "output_type": "execute_result"
    }
   ],
   "source": [
    "walk_info_df.head()"
   ]
  },
  {
   "cell_type": "code",
   "execution_count": 26,
   "metadata": {},
   "outputs": [],
   "source": [
    "walk_info_df = walk_info_df.merge(workouts_df, how=\"inner\", on=\"workout_id\")"
   ]
  },
  {
   "cell_type": "code",
   "execution_count": 27,
   "metadata": {},
   "outputs": [],
   "source": [
    "walk_info_df['startDate'] = walk_info_df['startDate'].apply(lambda dt: pendulum.instance(dt).to_datetime_string()) \n",
    "walk_info_df['endDate'] = walk_info_df['endDate'].apply(lambda dt: pendulum.instance(dt).to_datetime_string())"
   ]
  },
  {
   "cell_type": "code",
   "execution_count": 28,
   "metadata": {},
   "outputs": [],
   "source": [
    "walk_info_df.to_excel('walk_info_df.xlsx', index=False)\n",
    "\n",
    "#TODO: Need to put this in the data folder"
   ]
  },
  {
   "cell_type": "code",
   "execution_count": 29,
   "metadata": {},
   "outputs": [
    {
     "data": {
      "text/plain": [
       "1.0"
      ]
     },
     "execution_count": 29,
     "metadata": {},
     "output_type": "execute_result"
    }
   ],
   "source": [
    "start_point_df['workout_id'].nunique() / len(start_point_df)"
   ]
  },
  {
   "cell_type": "code",
   "execution_count": 30,
   "metadata": {},
   "outputs": [
    {
     "name": "stdout",
     "output_type": "stream",
     "text": [
      "<class 'pandas.core.frame.DataFrame'>\n",
      "RangeIndex: 682 entries, 0 to 681\n",
      "Data columns (total 12 columns):\n",
      " #   Column                         Non-Null Count  Dtype                                \n",
      "---  ------                         --------------  -----                                \n",
      " 0   workout_id                     682 non-null    object                               \n",
      " 1   duration_minutes               682 non-null    object                               \n",
      " 2   totaldistance_km               682 non-null    object                               \n",
      " 3   totalenergyburned_kJ           682 non-null    object                               \n",
      " 4   sourceName                     682 non-null    object                               \n",
      " 5   sourceVersion                  682 non-null    object                               \n",
      " 6   startDate                      682 non-null    datetime64[ns, pytz.FixedOffset(600)]\n",
      " 7   endDate                        682 non-null    datetime64[ns, pytz.FixedOffset(600)]\n",
      " 8   metadata_HKWeatherTemperature  627 non-null    object                               \n",
      " 9   metadata_HKWeatherHumidity     625 non-null    object                               \n",
      " 10  metadata_HKElevationAscended   538 non-null    object                               \n",
      " 11  metadata_HKAverageMETs         456 non-null    object                               \n",
      "dtypes: datetime64[ns, pytz.FixedOffset(600)](2), object(10)\n",
      "memory usage: 64.1+ KB\n"
     ]
    }
   ],
   "source": [
    "workouts_df.info()"
   ]
  },
  {
   "cell_type": "code",
   "execution_count": 31,
   "metadata": {},
   "outputs": [
    {
     "ename": "NameError",
     "evalue": "name 'klib' is not defined",
     "output_type": "error",
     "traceback": [
      "\u001b[0;31m---------------------------------------------------------------------------\u001b[0m",
      "\u001b[0;31mNameError\u001b[0m                                 Traceback (most recent call last)",
      "\u001b[1;32m/Users/mjboothaus/code/github/mjboothaus/emmaus-walking-data/notebooks/healthkit_to_sqlite.ipynb Cell 33'\u001b[0m in \u001b[0;36m<cell line: 1>\u001b[0;34m()\u001b[0m\n\u001b[0;32m----> <a href='vscode-notebook-cell:/Users/mjboothaus/code/github/mjboothaus/emmaus-walking-data/notebooks/healthkit_to_sqlite.ipynb#ch0000030?line=0'>1</a>\u001b[0m workouts_df_cleaned \u001b[39m=\u001b[39m klib\u001b[39m.\u001b[39mdata_cleaning(workouts_df)\n",
      "\u001b[0;31mNameError\u001b[0m: name 'klib' is not defined"
     ]
    }
   ],
   "source": [
    "workouts_df_cleaned = klib.data_cleaning(workouts_df)"
   ]
  },
  {
   "cell_type": "code",
   "execution_count": null,
   "metadata": {},
   "outputs": [],
   "source": [
    "workouts_df_cleaned.info()"
   ]
  },
  {
   "cell_type": "code",
   "execution_count": null,
   "metadata": {},
   "outputs": [],
   "source": [
    "workouts_df_cleaned.head()"
   ]
  },
  {
   "cell_type": "code",
   "execution_count": null,
   "metadata": {},
   "outputs": [],
   "source": [
    "workouts_csv = HEALTHKIT_DATA_PATH / \"workouts.csv\""
   ]
  },
  {
   "cell_type": "code",
   "execution_count": null,
   "metadata": {},
   "outputs": [],
   "source": [
    "workouts_df_cleaned.to_csv(workouts_csv, index=False)"
   ]
  },
  {
   "cell_type": "code",
   "execution_count": null,
   "metadata": {},
   "outputs": [],
   "source": [
    "workouts_df_cleaned.columns"
   ]
  },
  {
   "cell_type": "code",
   "execution_count": null,
   "metadata": {},
   "outputs": [],
   "source": [
    "workouts_df_cleaned.nunique()"
   ]
  },
  {
   "cell_type": "code",
   "execution_count": null,
   "metadata": {},
   "outputs": [],
   "source": [
    "[col for col in workouts_df.columns.values if col not in workouts_df_cleaned.columns.values]"
   ]
  },
  {
   "cell_type": "code",
   "execution_count": null,
   "metadata": {},
   "outputs": [],
   "source": [
    "tables_df = create_df_from_sql_query_in_file(\"list_all_tables.sql\", db.conn)"
   ]
  },
  {
   "cell_type": "code",
   "execution_count": null,
   "metadata": {},
   "outputs": [],
   "source": [
    "tables_df"
   ]
  },
  {
   "cell_type": "code",
   "execution_count": null,
   "metadata": {},
   "outputs": [],
   "source": [
    "WALK_DETAILS_FILE = 'walk_details.toml'\n",
    "walk_details = Path('../' + WALK_DETAILS_FILE)\n"
   ]
  },
  {
   "cell_type": "code",
   "execution_count": null,
   "metadata": {},
   "outputs": [],
   "source": [
    "walk_details"
   ]
  },
  {
   "cell_type": "code",
   "execution_count": null,
   "metadata": {},
   "outputs": [],
   "source": [
    "with open(walk_details, encoding=\"utf-8\") as f:\n",
    "    walk_details_dict = tomli.load(f)"
   ]
  },
  {
   "cell_type": "code",
   "execution_count": null,
   "metadata": {},
   "outputs": [],
   "source": [
    "walk_details_dict"
   ]
  },
  {
   "cell_type": "code",
   "execution_count": null,
   "metadata": {},
   "outputs": [],
   "source": [
    "pd.DataFrame(walk_details_dict, )"
   ]
  },
  {
   "cell_type": "code",
   "execution_count": null,
   "metadata": {},
   "outputs": [],
   "source": [
    "\n",
    "def calc_walk_stats(walk_data):\n",
    "    total_time = dt.timedelta(0)\n",
    "    total_distance = 0\n",
    "\n",
    "    for hike in walk_data:\n",
    "        total_time += hike.index.max()\n",
    "        # print(iHike+1, walk_date[iHike], hike.index.max(), hike['dist'].max() / 1e3)\n",
    "        total_distance += hike['dist'].max()\n",
    "    total_distance /= 1e3\n",
    "\n",
    "    start_coord = walk_data[0][['lat', 'lon']].iloc[0].tolist()\n",
    "    end_coord = walk_data[-1][['lat', 'lon']].iloc[-1].tolist()\n",
    "    return total_time, total_distance, start_coord, end_coord"
   ]
  },
  {
   "cell_type": "code",
   "execution_count": null,
   "metadata": {},
   "outputs": [],
   "source": [
    "def create_walk_cached_data_for_app(db_file, n_rows_used=5):\n",
    "    # read in all of the walks data and sample at an appropriate frequency and cache for faster use in the app\n",
    "    db_conn = sql.connect(db_file)\n",
    "    walk_df = pd.read_sql_query('SELECT * FROM walks', db_conn)\n",
    "\n",
    "    UNUSED_COLUMNS = ['dist', 'speed']\n",
    "\n",
    "    walk_df.drop(UNUSED_COLUMNS, axis=1, inplace=True)\n",
    "    walk_df.dropna(inplace=True)      # TODO: Check why there are a few NaNs\n",
    "    walk_df = walk_df.iloc[::n_rows_used].reset_index()    # downsample\n",
    "\n",
    "    walk_df.to_feather(Path(db_file.as_posix().replace('.db', '.cache.feather')))\n",
    "    \n",
    "    return walk_df"
   ]
  },
  {
   "cell_type": "code",
   "execution_count": null,
   "metadata": {},
   "outputs": [],
   "source": [
    "# Not working yet -- this is the alternate approach to using the individual .FIT files\n",
    "# walk_df = create_walk_cached_data_for_app(db_file, 10)"
   ]
  },
  {
   "cell_type": "code",
   "execution_count": null,
   "metadata": {},
   "outputs": [],
   "source": [
    "# walk_df[walk_df['lat'].isna()]"
   ]
  },
  {
   "cell_type": "code",
   "execution_count": null,
   "metadata": {},
   "outputs": [],
   "source": [
    "Path(db_file.as_posix().replace('.db', '.cache.feather'))"
   ]
  },
  {
   "cell_type": "code",
   "execution_count": null,
   "metadata": {},
   "outputs": [],
   "source": [
    "# walk_df = pd.read_feather(Path(db_file.as_posix().replace('.db', '.cache.feather')))"
   ]
  },
  {
   "cell_type": "code",
   "execution_count": null,
   "metadata": {},
   "outputs": [],
   "source": [
    "# walk_df.info()"
   ]
  },
  {
   "cell_type": "code",
   "execution_count": null,
   "metadata": {},
   "outputs": [],
   "source": [
    "# walk_df['WalkName'].unique()"
   ]
  }
 ],
 "metadata": {
  "interpreter": {
   "hash": "a53a55b0073614e9e0c431f4185a85688d811cf9f818579d72a21abdfe61484e"
  },
  "kernelspec": {
   "display_name": "Python 3.9.12 ('.venv': venv)",
   "language": "python",
   "name": "python3"
  },
  "language_info": {
   "codemirror_mode": {
    "name": "ipython",
    "version": 3
   },
   "file_extension": ".py",
   "mimetype": "text/x-python",
   "name": "python",
   "nbconvert_exporter": "python",
   "pygments_lexer": "ipython3",
   "version": "3.9.12"
  }
 },
 "nbformat": 4,
 "nbformat_minor": 4
}
