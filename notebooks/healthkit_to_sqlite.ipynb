{
 "cells": [
  {
   "cell_type": "markdown",
   "metadata": {},
   "source": [
    "# Database - functions for data back-end / manipulations\n",
    "\n",
    "This is using an alternate approach:\n",
    "  - Export all of my Apple HealthFit data from the Health app to export.zip \n",
    "  - Converted this to a SQLite database using `healthfit-to-sqlite`\n",
    " \n",
    "  Queries can then against this database to build the cache file (or possibly a smaller custom SQLite file.\n",
    "\n",
    "## TODO\n",
    "* This is still a work in progress\n",
    "* Need to write the queries to marshall the data for each of the workouts within each group of walks\n",
    "* Then cache this data - maybe try another (small) sqlite db for the caching (instead of feather)\n",
    "* **NOTE: It looks like the queries are being truncated at 1000 values - need to fix**\n"
   ]
  },
  {
   "cell_type": "code",
   "execution_count": 2,
   "metadata": {},
   "outputs": [],
   "source": [
    "\n",
    "import pandas as pd\n",
    "\n",
    "from dateutil.parser import parse\n",
    "import datetime as dt\n",
    "import sqlite3 as sql\n",
    "from pathlib import Path\n",
    "import tomli\n",
    "\n",
    "import subprocess\n",
    "import pendulum\n",
    "from sqlite_utils import Database\n",
    "import reverse_geocoder as rg\n",
    "import healthkit-to-sqlite"
   ]
  },
  {
   "cell_type": "markdown",
   "metadata": {},
   "source": [
    "### Datasette.io approach\n",
    "\n",
    "#### Exporting HealthKit data / creating SQLite DB\n",
    "\n",
    "First export HealthKit data using the Health app - select your profile icon from the top-right of the main screen and then select **Export All Health Data** (this can take some time to create the `export.zip` file).\n",
    "\n",
    "The archive can be converted to a SQLite database using the following command:\n",
    "\n",
    "`healthkit-to-sqlite export.zip healthkit_db.sqlite`"
   ]
  },
  {
   "cell_type": "code",
   "execution_count": 4,
   "metadata": {},
   "outputs": [],
   "source": [
    "# HEALTHKIT_DATA_PATH = Path(\"/Users/mjboothaus/data/healthkit\")\n",
    "\n",
    "HEALTHKIT_DATA_PATH = Path(\"/Users/mjboothaus/icloud/Data/apple_health_export\")\n",
    "export_zip = HEALTHKIT_DATA_PATH / \"export.zip\""
   ]
  },
  {
   "cell_type": "code",
   "execution_count": 5,
   "metadata": {},
   "outputs": [],
   "source": [
    "def convert_healthkit_export_to_sqlite(export_zip):\n",
    "    zip_file = export_zip.as_posix()\n",
    "    if export_zip.exists() == False:\n",
    "        print(zip_file, \": not found\")\n",
    "        return None, f\"{zip_file}: not found\"\n",
    "    zip_file_date = pendulum.instance(dt.datetime.fromtimestamp(export_zip.stat().st_ctime))\n",
    "\n",
    "    db_file = zip_file.replace(\"export.zip\", \"healthkit_db.sqlite\")\n",
    "    if Path(db_file).exists() == True:\n",
    "        Path(db_file).unlink()\n",
    "    sp_cmd = f\"pipx run healthkit-to-sqlite {zip_file} {db_file}\"\n",
    "    print(sp_cmd)\n",
    "    print('---------------------------------------------------------------------------------------------')\n",
    "    print('Please wait: converting healthkit export.zip to sqlite database (takes just over a minute)...')\n",
    "\n",
    "    sp = subprocess.Popen(sp_cmd, stdout=subprocess.PIPE, shell=True)\n",
    "    (sp_output, sp_err) = sp.communicate()  \n",
    "\n",
    "    #This makes the wait possible\n",
    "    sp_status = sp.wait()\n",
    "\n",
    "    db_file_with_date = db_file.replace(\".sqlite\", \"_\" + zip_file_date.to_date_string().replace(\"-\", \"_\") + \".sqlite\")\n",
    "\n",
    "    export_zip.rename(zip_file.replace(\".zip\", \"_\" + zip_file_date.to_date_string().replace(\"-\", \"_\") + \".zip\"))\n",
    "    Path(db_file).rename(db_file_with_date)\n",
    "\n",
    "    return db_file_with_date, sp_output"
   ]
  },
  {
   "cell_type": "code",
   "execution_count": 6,
   "metadata": {},
   "outputs": [
    {
     "name": "stdout",
     "output_type": "stream",
     "text": [
      "pipx run healthkit-to-sqlite /Users/mjboothaus/icloud/Data/apple_health_export/export.zip /Users/mjboothaus/icloud/Data/apple_health_export/healthkit_db.sqlite\n",
      "---------------------------------------------------------------------------------------------\n",
      "Please wait: converting healthkit export.zip to sqlite database (takes just over a minute)...\n"
     ]
    },
    {
     "name": "stderr",
     "output_type": "stream",
     "text": [
      "creating virtual environment...\n",
      "installing healthkit-to-sqlite...\n"
     ]
    }
   ],
   "source": [
    "db_file, output = convert_healthkit_export_to_sqlite(export_zip)"
   ]
  },
  {
   "cell_type": "code",
   "execution_count": 8,
   "metadata": {},
   "outputs": [
    {
     "data": {
      "text/plain": [
       "'/Users/mjboothaus/icloud/Data/apple_health_export/healthkit_db_2022_04_28.sqlite'"
      ]
     },
     "execution_count": 8,
     "metadata": {},
     "output_type": "execute_result"
    }
   ],
   "source": [
    "db_file"
   ]
  },
  {
   "cell_type": "code",
   "execution_count": 10,
   "metadata": {},
   "outputs": [],
   "source": [
    "def create_df_from_sql_query_in_file(filename_dot_sql, conn, parse_dates):\n",
    "# Read the sql file\n",
    "    query_file = get_project_root_alternate() / \"sql\" / filename_dot_sql\n",
    "\n",
    "    with open(query_file, 'r') as query:\n",
    "        # connection == the connection to your database\n",
    "        sql_text = query.read()\n",
    "        print(sql_text)\n",
    "        df = pd.read_sql_query(sql_text, conn, parse_dates=parse_dates)\n",
    "    return df"
   ]
  },
  {
   "cell_type": "code",
   "execution_count": 11,
   "metadata": {},
   "outputs": [],
   "source": [
    "db = Database(db_file)"
   ]
  },
  {
   "cell_type": "code",
   "execution_count": 12,
   "metadata": {},
   "outputs": [
    {
     "name": "stdout",
     "output_type": "stream",
     "text": [
      "select\n",
      "    id as workout_id,\n",
      "    duration as duration_minutes,\n",
      "    totaldistance as totaldistance_km,\n",
      "    totalenergyburned as totalenergyburned_kJ,\n",
      "    sourcename,\n",
      "    sourceversion,\n",
      "    startdate,\n",
      "    enddate,\n",
      "    metadata_hkweathertemperature,\n",
      "    metadata_hkweatherhumidity,\n",
      "    metadata_hkelevationascended,\n",
      "    metadata_hkaveragemets\n",
      "from\n",
      "    workouts\n",
      "where workoutactivitytype = \"HKWorkoutActivityTypeWalking\" order by id\n",
      "\n",
      "\n",
      " /* Excluded fields:\n",
      "    workoutactivitytype,   # just walking\n",
      "    durationunit,          # fixed - min\n",
      "    totaldistanceunit,     # fixed - km\n",
      "    totalenergyburnedunit, # fixed - kJ\n",
      "    device,\n",
      "    creationdate,          # not really of interest (start date instead)\n",
      "    workout_events,        # think this is redundant info (need to check - JSON?)\n",
      "    metadata_hkgroupfitness,\n",
      "    metadata_hkworkoutbrandname,\n",
      "    metadata_hktimezone,\n",
      "    metadata_hkcoachedworkout,\n",
      "    metadata_hkwasuserentered,\n",
      "    metadata_hkindoorworkout,\n",
      "    metadata_hkelevationascended,\n",
      "    metadata_hkswimminglocationtype,\n",
      "    metadata_hkaveragemets,\n",
      "    metadata_healthfit_sub_sport,\n",
      "    metadata_healthfit_route,\n",
      "    metadata_healthfit_file_type,\n",
      "    metadata_hkmaximumspeed,\n",
      "    metadata_healthfit_total_moving_time,\n",
      "    metadata_healthfit_total_distance,\n",
      "    metadata_healthfit_max_running_cadence,\n",
      "    metadata_healthfit_min_altitude,\n",
      "    metadata_healthfit_avg_running_cadence,\n",
      "    metadata_healthfit_app_build,\n",
      "    metadata_healthfit_fit_sport,\n",
      "    metadata_healthfit_fit_sub_sport,\n",
      "    metadata_healthfit_max_altitude,\n",
      "    metadata_healthfit_fit_manufacturer,\n",
      "    metadata_healthfit_total_strides,\n",
      "    metadata_healthfit_fit_serial_number,\n",
      "    metadata_healthfit_sport,\n",
      "    metadata_hkaveragespeed,\n",
      "    metadata_healthfit_app_version,\n",
      "    metadata_hkexternaluuid\n",
      " */\n",
      "\n"
     ]
    }
   ],
   "source": [
    "workouts_df = create_df_from_sql_query_in_file(\"select_star_walking_workouts.sql\", db.conn, ['startDate', 'endDate'])"
   ]
  },
  {
   "cell_type": "code",
   "execution_count": 13,
   "metadata": {},
   "outputs": [
    {
     "data": {
      "text/html": [
       "<div>\n",
       "<style scoped>\n",
       "    .dataframe tbody tr th:only-of-type {\n",
       "        vertical-align: middle;\n",
       "    }\n",
       "\n",
       "    .dataframe tbody tr th {\n",
       "        vertical-align: top;\n",
       "    }\n",
       "\n",
       "    .dataframe thead th {\n",
       "        text-align: right;\n",
       "    }\n",
       "</style>\n",
       "<table border=\"1\" class=\"dataframe\">\n",
       "  <thead>\n",
       "    <tr style=\"text-align: right;\">\n",
       "      <th></th>\n",
       "      <th>workout_id</th>\n",
       "      <th>duration_minutes</th>\n",
       "      <th>totaldistance_km</th>\n",
       "      <th>totalenergyburned_kJ</th>\n",
       "      <th>sourceName</th>\n",
       "      <th>sourceVersion</th>\n",
       "      <th>startDate</th>\n",
       "      <th>endDate</th>\n",
       "      <th>metadata_HKWeatherTemperature</th>\n",
       "      <th>metadata_HKWeatherHumidity</th>\n",
       "      <th>metadata_HKElevationAscended</th>\n",
       "      <th>metadata_HKAverageMETs</th>\n",
       "    </tr>\n",
       "  </thead>\n",
       "  <tbody>\n",
       "    <tr>\n",
       "      <th>0</th>\n",
       "      <td>00622abc5705b0b7ce1019a8778f26f937e130bf</td>\n",
       "      <td>38.84239016572634</td>\n",
       "      <td>2.582174845324617</td>\n",
       "      <td>1056.937420549035</td>\n",
       "      <td>Michael and Ai Leen’s Apple Watch</td>\n",
       "      <td>6.1.1</td>\n",
       "      <td>2020-03-18 14:06:05+10:00</td>\n",
       "      <td>2020-03-19 14:00:17+10:00</td>\n",
       "      <td>78 degF</td>\n",
       "      <td>4400 %</td>\n",
       "      <td>4350 cm</td>\n",
       "      <td>4.53858 kcal/hr·kg</td>\n",
       "    </tr>\n",
       "    <tr>\n",
       "      <th>1</th>\n",
       "      <td>006282a0c6085c721ba9179b8eee64781b435bce</td>\n",
       "      <td>10.44971075057983</td>\n",
       "      <td>0.4370095767620951</td>\n",
       "      <td>259.2757187516958</td>\n",
       "      <td>Michael and Ai Leen’s Apple Watch</td>\n",
       "      <td>8.0</td>\n",
       "      <td>2021-10-15 07:19:03+10:00</td>\n",
       "      <td>2021-10-15 07:29:30+10:00</td>\n",
       "      <td>57.2 degF</td>\n",
       "      <td>7300 %</td>\n",
       "      <td>870 cm</td>\n",
       "      <td>4.4021 kcal/hr·kg</td>\n",
       "    </tr>\n",
       "    <tr>\n",
       "      <th>2</th>\n",
       "      <td>008ba174785dd6056b5ca1ec10078acdd7802c80</td>\n",
       "      <td>47.70666061639785</td>\n",
       "      <td>3.533976854936286</td>\n",
       "      <td>1187.535097164499</td>\n",
       "      <td>Michael and Ai Leen’s Apple Watch</td>\n",
       "      <td>5.2.1</td>\n",
       "      <td>2019-08-27 10:57:10+10:00</td>\n",
       "      <td>2019-08-27 11:44:52+10:00</td>\n",
       "      <td>61 degF</td>\n",
       "      <td>7500 %</td>\n",
       "      <td>1660 cm</td>\n",
       "      <td>None</td>\n",
       "    </tr>\n",
       "    <tr>\n",
       "      <th>3</th>\n",
       "      <td>00a5b19aad5ac7e38a951442cc38e92ca83e1c75</td>\n",
       "      <td>18.51035615603129</td>\n",
       "      <td>1.479545586945489</td>\n",
       "      <td>500.3953012249446</td>\n",
       "      <td>Michael and Ai Leen’s Apple Watch</td>\n",
       "      <td>5.1.3</td>\n",
       "      <td>2019-03-25 12:59:14+10:00</td>\n",
       "      <td>2019-03-25 13:17:44+10:00</td>\n",
       "      <td>None</td>\n",
       "      <td>None</td>\n",
       "      <td>None</td>\n",
       "      <td>None</td>\n",
       "    </tr>\n",
       "    <tr>\n",
       "      <th>4</th>\n",
       "      <td>00c93d495a03c7ba98bc6db89f90cab645a18c90</td>\n",
       "      <td>50.61882083415985</td>\n",
       "      <td>2.702121313092168</td>\n",
       "      <td>984.2600600944362</td>\n",
       "      <td>Michael and Ai Leen’s Apple Watch</td>\n",
       "      <td>6.2.6</td>\n",
       "      <td>2020-07-02 16:28:41+10:00</td>\n",
       "      <td>2020-07-02 17:19:18+10:00</td>\n",
       "      <td>52 degF</td>\n",
       "      <td>6200 %</td>\n",
       "      <td>1970 cm</td>\n",
       "      <td>3.60381 kcal/hr·kg</td>\n",
       "    </tr>\n",
       "  </tbody>\n",
       "</table>\n",
       "</div>"
      ],
      "text/plain": [
       "                                 workout_id   duration_minutes  \\\n",
       "0  00622abc5705b0b7ce1019a8778f26f937e130bf  38.84239016572634   \n",
       "1  006282a0c6085c721ba9179b8eee64781b435bce  10.44971075057983   \n",
       "2  008ba174785dd6056b5ca1ec10078acdd7802c80  47.70666061639785   \n",
       "3  00a5b19aad5ac7e38a951442cc38e92ca83e1c75  18.51035615603129   \n",
       "4  00c93d495a03c7ba98bc6db89f90cab645a18c90  50.61882083415985   \n",
       "\n",
       "     totaldistance_km totalenergyburned_kJ                         sourceName  \\\n",
       "0   2.582174845324617    1056.937420549035  Michael and Ai Leen’s Apple Watch   \n",
       "1  0.4370095767620951    259.2757187516958  Michael and Ai Leen’s Apple Watch   \n",
       "2   3.533976854936286    1187.535097164499  Michael and Ai Leen’s Apple Watch   \n",
       "3   1.479545586945489    500.3953012249446  Michael and Ai Leen’s Apple Watch   \n",
       "4   2.702121313092168    984.2600600944362  Michael and Ai Leen’s Apple Watch   \n",
       "\n",
       "  sourceVersion                 startDate                   endDate  \\\n",
       "0         6.1.1 2020-03-18 14:06:05+10:00 2020-03-19 14:00:17+10:00   \n",
       "1           8.0 2021-10-15 07:19:03+10:00 2021-10-15 07:29:30+10:00   \n",
       "2         5.2.1 2019-08-27 10:57:10+10:00 2019-08-27 11:44:52+10:00   \n",
       "3         5.1.3 2019-03-25 12:59:14+10:00 2019-03-25 13:17:44+10:00   \n",
       "4         6.2.6 2020-07-02 16:28:41+10:00 2020-07-02 17:19:18+10:00   \n",
       "\n",
       "  metadata_HKWeatherTemperature metadata_HKWeatherHumidity  \\\n",
       "0                       78 degF                     4400 %   \n",
       "1                     57.2 degF                     7300 %   \n",
       "2                       61 degF                     7500 %   \n",
       "3                          None                       None   \n",
       "4                       52 degF                     6200 %   \n",
       "\n",
       "  metadata_HKElevationAscended metadata_HKAverageMETs  \n",
       "0                      4350 cm     4.53858 kcal/hr·kg  \n",
       "1                       870 cm      4.4021 kcal/hr·kg  \n",
       "2                      1660 cm                   None  \n",
       "3                         None                   None  \n",
       "4                      1970 cm     3.60381 kcal/hr·kg  "
      ]
     },
     "execution_count": 13,
     "metadata": {},
     "output_type": "execute_result"
    }
   ],
   "source": [
    "workouts_df.head()"
   ]
  },
  {
   "cell_type": "code",
   "execution_count": 14,
   "metadata": {},
   "outputs": [
    {
     "name": "stdout",
     "output_type": "stream",
     "text": [
      "-- Get starting point for each workout\n",
      "select\n",
      "  start_datetime,\n",
      "  start_latitude,\n",
      "  start_longitude,\n",
      "  start_altitude,\n",
      "  start_speed,\n",
      "  workout_id\n",
      "from\n",
      "  (\n",
      "    select\n",
      "      date as start_datetime,\n",
      "      latitude as start_latitude,\n",
      "      longitude as start_longitude,\n",
      "      altitude as start_altitude,\n",
      "      speed as start_speed,\n",
      "      workout_id,\n",
      "      row_number() over (\n",
      "        partition by workout_id\n",
      "        order by\n",
      "          date asc\n",
      "      ) as date_rank\n",
      "    from\n",
      "      workout_points\n",
      "  )\n",
      "where\n",
      "  date_rank = 1\n"
     ]
    }
   ],
   "source": [
    "# Trying to find the start point in each walk workout -- as date is not a date field in db not clear if sort by date and limit 1 will work\n",
    "# might need to import table to pandas convert types and then export to db before doing query. Else use sqlite_utils to change column types.\n",
    "\n",
    "start_point_df = create_df_from_sql_query_in_file(\"select_start_point_workout.sql\", db.conn, ['date'])"
   ]
  },
  {
   "cell_type": "code",
   "execution_count": 15,
   "metadata": {},
   "outputs": [
    {
     "name": "stdout",
     "output_type": "stream",
     "text": [
      "<class 'pandas.core.frame.DataFrame'>\n",
      "RangeIndex: 771 entries, 0 to 770\n",
      "Data columns (total 6 columns):\n",
      " #   Column           Non-Null Count  Dtype  \n",
      "---  ------           --------------  -----  \n",
      " 0   start_datetime   771 non-null    object \n",
      " 1   start_latitude   771 non-null    float64\n",
      " 2   start_longitude  771 non-null    float64\n",
      " 3   start_altitude   771 non-null    float64\n",
      " 4   start_speed      771 non-null    float64\n",
      " 5   workout_id       771 non-null    object \n",
      "dtypes: float64(4), object(2)\n",
      "memory usage: 36.3+ KB\n"
     ]
    }
   ],
   "source": [
    "start_point_df.info()"
   ]
  },
  {
   "cell_type": "code",
   "execution_count": 16,
   "metadata": {},
   "outputs": [
    {
     "data": {
      "text/html": [
       "<div>\n",
       "<style scoped>\n",
       "    .dataframe tbody tr th:only-of-type {\n",
       "        vertical-align: middle;\n",
       "    }\n",
       "\n",
       "    .dataframe tbody tr th {\n",
       "        vertical-align: top;\n",
       "    }\n",
       "\n",
       "    .dataframe thead th {\n",
       "        text-align: right;\n",
       "    }\n",
       "</style>\n",
       "<table border=\"1\" class=\"dataframe\">\n",
       "  <thead>\n",
       "    <tr style=\"text-align: right;\">\n",
       "      <th></th>\n",
       "      <th>start_datetime</th>\n",
       "      <th>start_latitude</th>\n",
       "      <th>start_longitude</th>\n",
       "      <th>start_altitude</th>\n",
       "      <th>start_speed</th>\n",
       "      <th>workout_id</th>\n",
       "    </tr>\n",
       "  </thead>\n",
       "  <tbody>\n",
       "    <tr>\n",
       "      <th>0</th>\n",
       "      <td>2020-03-18T04:06:07Z</td>\n",
       "      <td>-33.834663</td>\n",
       "      <td>151.146122</td>\n",
       "      <td>33.426914</td>\n",
       "      <td>1.477171</td>\n",
       "      <td>00622abc5705b0b7ce1019a8778f26f937e130bf</td>\n",
       "    </tr>\n",
       "    <tr>\n",
       "      <th>1</th>\n",
       "      <td>2021-10-14T21:19:01Z</td>\n",
       "      <td>-33.768691</td>\n",
       "      <td>150.619703</td>\n",
       "      <td>166.526031</td>\n",
       "      <td>0.106720</td>\n",
       "      <td>006282a0c6085c721ba9179b8eee64781b435bce</td>\n",
       "    </tr>\n",
       "    <tr>\n",
       "      <th>2</th>\n",
       "      <td>2019-08-27T00:57:17Z</td>\n",
       "      <td>-33.857683</td>\n",
       "      <td>151.158855</td>\n",
       "      <td>-0.112423</td>\n",
       "      <td>1.282526</td>\n",
       "      <td>008ba174785dd6056b5ca1ec10078acdd7802c80</td>\n",
       "    </tr>\n",
       "    <tr>\n",
       "      <th>3</th>\n",
       "      <td>2019-03-25T03:09:52Z</td>\n",
       "      <td>-33.849331</td>\n",
       "      <td>151.157116</td>\n",
       "      <td>17.284760</td>\n",
       "      <td>1.363591</td>\n",
       "      <td>00a5b19aad5ac7e38a951442cc38e92ca83e1c75</td>\n",
       "    </tr>\n",
       "    <tr>\n",
       "      <th>4</th>\n",
       "      <td>2020-07-02T06:29:57Z</td>\n",
       "      <td>-35.299718</td>\n",
       "      <td>149.123614</td>\n",
       "      <td>567.276245</td>\n",
       "      <td>0.172744</td>\n",
       "      <td>00c93d495a03c7ba98bc6db89f90cab645a18c90</td>\n",
       "    </tr>\n",
       "  </tbody>\n",
       "</table>\n",
       "</div>"
      ],
      "text/plain": [
       "         start_datetime  start_latitude  start_longitude  start_altitude  \\\n",
       "0  2020-03-18T04:06:07Z      -33.834663       151.146122       33.426914   \n",
       "1  2021-10-14T21:19:01Z      -33.768691       150.619703      166.526031   \n",
       "2  2019-08-27T00:57:17Z      -33.857683       151.158855       -0.112423   \n",
       "3  2019-03-25T03:09:52Z      -33.849331       151.157116       17.284760   \n",
       "4  2020-07-02T06:29:57Z      -35.299718       149.123614      567.276245   \n",
       "\n",
       "   start_speed                                workout_id  \n",
       "0     1.477171  00622abc5705b0b7ce1019a8778f26f937e130bf  \n",
       "1     0.106720  006282a0c6085c721ba9179b8eee64781b435bce  \n",
       "2     1.282526  008ba174785dd6056b5ca1ec10078acdd7802c80  \n",
       "3     1.363591  00a5b19aad5ac7e38a951442cc38e92ca83e1c75  \n",
       "4     0.172744  00c93d495a03c7ba98bc6db89f90cab645a18c90  "
      ]
     },
     "execution_count": 16,
     "metadata": {},
     "output_type": "execute_result"
    }
   ],
   "source": [
    "start_point_df.head()"
   ]
  },
  {
   "cell_type": "code",
   "execution_count": 17,
   "metadata": {},
   "outputs": [
    {
     "name": "stdout",
     "output_type": "stream",
     "text": [
      "-- Get finishing point for each workout\n",
      "select\n",
      "  finish_datetime,\n",
      "  finish_latitude,\n",
      "  finish_longitude,\n",
      "  finish_altitude,\n",
      "  finish_speed,\n",
      "  workout_id\n",
      "from\n",
      "  (\n",
      "    select\n",
      "      date as finish_datetime,\n",
      "      latitude as finish_latitude,\n",
      "      longitude as finish_longitude,\n",
      "      altitude as finish_altitude,\n",
      "      speed as finish_speed,\n",
      "      workout_id,\n",
      "      row_number() over (\n",
      "        partition by workout_id\n",
      "        order by\n",
      "          date desc\n",
      "      ) as date_rank\n",
      "    from\n",
      "      workout_points\n",
      "  )\n",
      "where\n",
      "  date_rank = 1\n"
     ]
    }
   ],
   "source": [
    "finish_point_df = create_df_from_sql_query_in_file(\"select_finish_point_workout.sql\", db.conn, ['date'])"
   ]
  },
  {
   "cell_type": "code",
   "execution_count": 18,
   "metadata": {},
   "outputs": [
    {
     "data": {
      "text/html": [
       "<div>\n",
       "<style scoped>\n",
       "    .dataframe tbody tr th:only-of-type {\n",
       "        vertical-align: middle;\n",
       "    }\n",
       "\n",
       "    .dataframe tbody tr th {\n",
       "        vertical-align: top;\n",
       "    }\n",
       "\n",
       "    .dataframe thead th {\n",
       "        text-align: right;\n",
       "    }\n",
       "</style>\n",
       "<table border=\"1\" class=\"dataframe\">\n",
       "  <thead>\n",
       "    <tr style=\"text-align: right;\">\n",
       "      <th></th>\n",
       "      <th>finish_datetime</th>\n",
       "      <th>finish_latitude</th>\n",
       "      <th>finish_longitude</th>\n",
       "      <th>finish_altitude</th>\n",
       "      <th>finish_speed</th>\n",
       "      <th>workout_id</th>\n",
       "    </tr>\n",
       "  </thead>\n",
       "  <tbody>\n",
       "    <tr>\n",
       "      <th>0</th>\n",
       "      <td>2020-03-18T04:44:34Z</td>\n",
       "      <td>-33.846918</td>\n",
       "      <td>151.153274</td>\n",
       "      <td>20.513332</td>\n",
       "      <td>0.000000</td>\n",
       "      <td>00622abc5705b0b7ce1019a8778f26f937e130bf</td>\n",
       "    </tr>\n",
       "    <tr>\n",
       "      <th>1</th>\n",
       "      <td>2021-10-14T21:29:29Z</td>\n",
       "      <td>-33.768667</td>\n",
       "      <td>150.619710</td>\n",
       "      <td>172.390900</td>\n",
       "      <td>0.051807</td>\n",
       "      <td>006282a0c6085c721ba9179b8eee64781b435bce</td>\n",
       "    </tr>\n",
       "    <tr>\n",
       "      <th>2</th>\n",
       "      <td>2019-08-27T01:44:51Z</td>\n",
       "      <td>-33.857442</td>\n",
       "      <td>151.159249</td>\n",
       "      <td>15.319762</td>\n",
       "      <td>1.354748</td>\n",
       "      <td>008ba174785dd6056b5ca1ec10078acdd7802c80</td>\n",
       "    </tr>\n",
       "    <tr>\n",
       "      <th>3</th>\n",
       "      <td>2019-03-25T03:17:43Z</td>\n",
       "      <td>-33.847052</td>\n",
       "      <td>151.152803</td>\n",
       "      <td>20.752979</td>\n",
       "      <td>0.956974</td>\n",
       "      <td>00a5b19aad5ac7e38a951442cc38e92ca83e1c75</td>\n",
       "    </tr>\n",
       "    <tr>\n",
       "      <th>4</th>\n",
       "      <td>2020-07-02T07:19:18Z</td>\n",
       "      <td>-35.299912</td>\n",
       "      <td>149.123778</td>\n",
       "      <td>566.349731</td>\n",
       "      <td>0.304687</td>\n",
       "      <td>00c93d495a03c7ba98bc6db89f90cab645a18c90</td>\n",
       "    </tr>\n",
       "  </tbody>\n",
       "</table>\n",
       "</div>"
      ],
      "text/plain": [
       "        finish_datetime  finish_latitude  finish_longitude  finish_altitude  \\\n",
       "0  2020-03-18T04:44:34Z       -33.846918        151.153274        20.513332   \n",
       "1  2021-10-14T21:29:29Z       -33.768667        150.619710       172.390900   \n",
       "2  2019-08-27T01:44:51Z       -33.857442        151.159249        15.319762   \n",
       "3  2019-03-25T03:17:43Z       -33.847052        151.152803        20.752979   \n",
       "4  2020-07-02T07:19:18Z       -35.299912        149.123778       566.349731   \n",
       "\n",
       "   finish_speed                                workout_id  \n",
       "0      0.000000  00622abc5705b0b7ce1019a8778f26f937e130bf  \n",
       "1      0.051807  006282a0c6085c721ba9179b8eee64781b435bce  \n",
       "2      1.354748  008ba174785dd6056b5ca1ec10078acdd7802c80  \n",
       "3      0.956974  00a5b19aad5ac7e38a951442cc38e92ca83e1c75  \n",
       "4      0.304687  00c93d495a03c7ba98bc6db89f90cab645a18c90  "
      ]
     },
     "execution_count": 18,
     "metadata": {},
     "output_type": "execute_result"
    }
   ],
   "source": [
    "finish_point_df.head()"
   ]
  },
  {
   "cell_type": "code",
   "execution_count": 19,
   "metadata": {},
   "outputs": [],
   "source": [
    "walk_info_df = start_point_df.merge(finish_point_df, how='inner', on='workout_id')"
   ]
  },
  {
   "cell_type": "code",
   "execution_count": 20,
   "metadata": {},
   "outputs": [],
   "source": [
    "def get_location(latitude, longitude):\n",
    "    location = rg.search((latitude, longitude))\n",
    "    return [location[0]['name'], location[0]['admin1'], location[0]['cc']]"
   ]
  },
  {
   "cell_type": "code",
   "execution_count": 21,
   "metadata": {},
   "outputs": [
    {
     "name": "stdout",
     "output_type": "stream",
     "text": [
      "Loading formatted geocoded file...\n"
     ]
    }
   ],
   "source": [
    "walk_info_df['start_location'] = walk_info_df.apply(lambda row: get_location(float(row['start_latitude']), float(row['start_longitude'])), axis=1)"
   ]
  },
  {
   "cell_type": "code",
   "execution_count": 22,
   "metadata": {},
   "outputs": [],
   "source": [
    "walk_info_df['finish_location'] = walk_info_df.apply(lambda row: get_location(float(row['finish_latitude']), float(row['finish_longitude'])), axis=1)"
   ]
  },
  {
   "cell_type": "code",
   "execution_count": 23,
   "metadata": {},
   "outputs": [
    {
     "data": {
      "text/html": [
       "<div>\n",
       "<style scoped>\n",
       "    .dataframe tbody tr th:only-of-type {\n",
       "        vertical-align: middle;\n",
       "    }\n",
       "\n",
       "    .dataframe tbody tr th {\n",
       "        vertical-align: top;\n",
       "    }\n",
       "\n",
       "    .dataframe thead th {\n",
       "        text-align: right;\n",
       "    }\n",
       "</style>\n",
       "<table border=\"1\" class=\"dataframe\">\n",
       "  <thead>\n",
       "    <tr style=\"text-align: right;\">\n",
       "      <th></th>\n",
       "      <th>start_datetime</th>\n",
       "      <th>start_latitude</th>\n",
       "      <th>start_longitude</th>\n",
       "      <th>start_altitude</th>\n",
       "      <th>start_speed</th>\n",
       "      <th>workout_id</th>\n",
       "      <th>finish_datetime</th>\n",
       "      <th>finish_latitude</th>\n",
       "      <th>finish_longitude</th>\n",
       "      <th>finish_altitude</th>\n",
       "      <th>finish_speed</th>\n",
       "      <th>start_location</th>\n",
       "      <th>finish_location</th>\n",
       "    </tr>\n",
       "  </thead>\n",
       "  <tbody>\n",
       "    <tr>\n",
       "      <th>0</th>\n",
       "      <td>2020-03-18T04:06:07Z</td>\n",
       "      <td>-33.834663</td>\n",
       "      <td>151.146122</td>\n",
       "      <td>33.426914</td>\n",
       "      <td>1.477171</td>\n",
       "      <td>00622abc5705b0b7ce1019a8778f26f937e130bf</td>\n",
       "      <td>2020-03-18T04:44:34Z</td>\n",
       "      <td>-33.846918</td>\n",
       "      <td>151.153274</td>\n",
       "      <td>20.513332</td>\n",
       "      <td>0.000000</td>\n",
       "      <td>[Hunters Hill, New South Wales, AU]</td>\n",
       "      <td>[Canada Bay, New South Wales, AU]</td>\n",
       "    </tr>\n",
       "    <tr>\n",
       "      <th>1</th>\n",
       "      <td>2021-10-14T21:19:01Z</td>\n",
       "      <td>-33.768691</td>\n",
       "      <td>150.619703</td>\n",
       "      <td>166.526031</td>\n",
       "      <td>0.106720</td>\n",
       "      <td>006282a0c6085c721ba9179b8eee64781b435bce</td>\n",
       "      <td>2021-10-14T21:29:29Z</td>\n",
       "      <td>-33.768667</td>\n",
       "      <td>150.619710</td>\n",
       "      <td>172.390900</td>\n",
       "      <td>0.051807</td>\n",
       "      <td>[Glenbrook, New South Wales, AU]</td>\n",
       "      <td>[Glenbrook, New South Wales, AU]</td>\n",
       "    </tr>\n",
       "    <tr>\n",
       "      <th>2</th>\n",
       "      <td>2019-08-27T00:57:17Z</td>\n",
       "      <td>-33.857683</td>\n",
       "      <td>151.158855</td>\n",
       "      <td>-0.112423</td>\n",
       "      <td>1.282526</td>\n",
       "      <td>008ba174785dd6056b5ca1ec10078acdd7802c80</td>\n",
       "      <td>2019-08-27T01:44:51Z</td>\n",
       "      <td>-33.857442</td>\n",
       "      <td>151.159249</td>\n",
       "      <td>15.319762</td>\n",
       "      <td>1.354748</td>\n",
       "      <td>[Drummoyne, New South Wales, AU]</td>\n",
       "      <td>[Drummoyne, New South Wales, AU]</td>\n",
       "    </tr>\n",
       "    <tr>\n",
       "      <th>3</th>\n",
       "      <td>2019-03-25T03:09:52Z</td>\n",
       "      <td>-33.849331</td>\n",
       "      <td>151.157116</td>\n",
       "      <td>17.284760</td>\n",
       "      <td>1.363591</td>\n",
       "      <td>00a5b19aad5ac7e38a951442cc38e92ca83e1c75</td>\n",
       "      <td>2019-03-25T03:17:43Z</td>\n",
       "      <td>-33.847052</td>\n",
       "      <td>151.152803</td>\n",
       "      <td>20.752979</td>\n",
       "      <td>0.956974</td>\n",
       "      <td>[Drummoyne, New South Wales, AU]</td>\n",
       "      <td>[Canada Bay, New South Wales, AU]</td>\n",
       "    </tr>\n",
       "    <tr>\n",
       "      <th>4</th>\n",
       "      <td>2020-07-02T06:29:57Z</td>\n",
       "      <td>-35.299718</td>\n",
       "      <td>149.123614</td>\n",
       "      <td>567.276245</td>\n",
       "      <td>0.172744</td>\n",
       "      <td>00c93d495a03c7ba98bc6db89f90cab645a18c90</td>\n",
       "      <td>2020-07-02T07:19:18Z</td>\n",
       "      <td>-35.299912</td>\n",
       "      <td>149.123778</td>\n",
       "      <td>566.349731</td>\n",
       "      <td>0.304687</td>\n",
       "      <td>[Forrest, Australian Capital Territory, AU]</td>\n",
       "      <td>[Forrest, Australian Capital Territory, AU]</td>\n",
       "    </tr>\n",
       "    <tr>\n",
       "      <th>5</th>\n",
       "      <td>2021-10-27T18:28:26Z</td>\n",
       "      <td>-33.847081</td>\n",
       "      <td>151.152731</td>\n",
       "      <td>18.055738</td>\n",
       "      <td>0.067489</td>\n",
       "      <td>00eb7fa7b28b194d6aff23c678b7e7aa70b3c0dd</td>\n",
       "      <td>2021-10-27T21:40:15Z</td>\n",
       "      <td>-33.852263</td>\n",
       "      <td>151.153855</td>\n",
       "      <td>39.158474</td>\n",
       "      <td>0.035820</td>\n",
       "      <td>[Canada Bay, New South Wales, AU]</td>\n",
       "      <td>[Drummoyne, New South Wales, AU]</td>\n",
       "    </tr>\n",
       "    <tr>\n",
       "      <th>6</th>\n",
       "      <td>2019-12-15T23:51:54Z</td>\n",
       "      <td>-33.859273</td>\n",
       "      <td>151.154808</td>\n",
       "      <td>7.459394</td>\n",
       "      <td>1.334558</td>\n",
       "      <td>01028264001e7a35b635fa9eb76858a472cb37c2</td>\n",
       "      <td>2019-12-16T00:47:54Z</td>\n",
       "      <td>-33.858716</td>\n",
       "      <td>151.154779</td>\n",
       "      <td>12.775998</td>\n",
       "      <td>0.139416</td>\n",
       "      <td>[Drummoyne, New South Wales, AU]</td>\n",
       "      <td>[Drummoyne, New South Wales, AU]</td>\n",
       "    </tr>\n",
       "    <tr>\n",
       "      <th>7</th>\n",
       "      <td>2019-12-31T21:22:29Z</td>\n",
       "      <td>-33.859420</td>\n",
       "      <td>151.156248</td>\n",
       "      <td>15.434346</td>\n",
       "      <td>1.182388</td>\n",
       "      <td>01107b537742e1b396d742d80f26557b94de4459</td>\n",
       "      <td>2019-12-31T22:20:56Z</td>\n",
       "      <td>-33.858739</td>\n",
       "      <td>151.156270</td>\n",
       "      <td>9.560465</td>\n",
       "      <td>0.220545</td>\n",
       "      <td>[Drummoyne, New South Wales, AU]</td>\n",
       "      <td>[Drummoyne, New South Wales, AU]</td>\n",
       "    </tr>\n",
       "    <tr>\n",
       "      <th>8</th>\n",
       "      <td>2020-06-01T20:33:49Z</td>\n",
       "      <td>-33.847179</td>\n",
       "      <td>151.152555</td>\n",
       "      <td>15.193020</td>\n",
       "      <td>0.265315</td>\n",
       "      <td>013c71df802799519de191b7ff3b7dc5ffc644ba</td>\n",
       "      <td>2020-06-01T20:35:37Z</td>\n",
       "      <td>-33.847126</td>\n",
       "      <td>151.152706</td>\n",
       "      <td>18.673912</td>\n",
       "      <td>1.057088</td>\n",
       "      <td>[Canada Bay, New South Wales, AU]</td>\n",
       "      <td>[Canada Bay, New South Wales, AU]</td>\n",
       "    </tr>\n",
       "    <tr>\n",
       "      <th>9</th>\n",
       "      <td>2021-07-21T20:37:01Z</td>\n",
       "      <td>-33.852012</td>\n",
       "      <td>151.154787</td>\n",
       "      <td>34.225677</td>\n",
       "      <td>0.638369</td>\n",
       "      <td>01d750859db83e665a8113e0f0054d11f3510fff</td>\n",
       "      <td>2021-07-22T03:07:53Z</td>\n",
       "      <td>-33.847201</td>\n",
       "      <td>151.152812</td>\n",
       "      <td>23.093376</td>\n",
       "      <td>1.081762</td>\n",
       "      <td>[Drummoyne, New South Wales, AU]</td>\n",
       "      <td>[Canada Bay, New South Wales, AU]</td>\n",
       "    </tr>\n",
       "  </tbody>\n",
       "</table>\n",
       "</div>"
      ],
      "text/plain": [
       "         start_datetime  start_latitude  start_longitude  start_altitude  \\\n",
       "0  2020-03-18T04:06:07Z      -33.834663       151.146122       33.426914   \n",
       "1  2021-10-14T21:19:01Z      -33.768691       150.619703      166.526031   \n",
       "2  2019-08-27T00:57:17Z      -33.857683       151.158855       -0.112423   \n",
       "3  2019-03-25T03:09:52Z      -33.849331       151.157116       17.284760   \n",
       "4  2020-07-02T06:29:57Z      -35.299718       149.123614      567.276245   \n",
       "5  2021-10-27T18:28:26Z      -33.847081       151.152731       18.055738   \n",
       "6  2019-12-15T23:51:54Z      -33.859273       151.154808        7.459394   \n",
       "7  2019-12-31T21:22:29Z      -33.859420       151.156248       15.434346   \n",
       "8  2020-06-01T20:33:49Z      -33.847179       151.152555       15.193020   \n",
       "9  2021-07-21T20:37:01Z      -33.852012       151.154787       34.225677   \n",
       "\n",
       "   start_speed                                workout_id  \\\n",
       "0     1.477171  00622abc5705b0b7ce1019a8778f26f937e130bf   \n",
       "1     0.106720  006282a0c6085c721ba9179b8eee64781b435bce   \n",
       "2     1.282526  008ba174785dd6056b5ca1ec10078acdd7802c80   \n",
       "3     1.363591  00a5b19aad5ac7e38a951442cc38e92ca83e1c75   \n",
       "4     0.172744  00c93d495a03c7ba98bc6db89f90cab645a18c90   \n",
       "5     0.067489  00eb7fa7b28b194d6aff23c678b7e7aa70b3c0dd   \n",
       "6     1.334558  01028264001e7a35b635fa9eb76858a472cb37c2   \n",
       "7     1.182388  01107b537742e1b396d742d80f26557b94de4459   \n",
       "8     0.265315  013c71df802799519de191b7ff3b7dc5ffc644ba   \n",
       "9     0.638369  01d750859db83e665a8113e0f0054d11f3510fff   \n",
       "\n",
       "        finish_datetime  finish_latitude  finish_longitude  finish_altitude  \\\n",
       "0  2020-03-18T04:44:34Z       -33.846918        151.153274        20.513332   \n",
       "1  2021-10-14T21:29:29Z       -33.768667        150.619710       172.390900   \n",
       "2  2019-08-27T01:44:51Z       -33.857442        151.159249        15.319762   \n",
       "3  2019-03-25T03:17:43Z       -33.847052        151.152803        20.752979   \n",
       "4  2020-07-02T07:19:18Z       -35.299912        149.123778       566.349731   \n",
       "5  2021-10-27T21:40:15Z       -33.852263        151.153855        39.158474   \n",
       "6  2019-12-16T00:47:54Z       -33.858716        151.154779        12.775998   \n",
       "7  2019-12-31T22:20:56Z       -33.858739        151.156270         9.560465   \n",
       "8  2020-06-01T20:35:37Z       -33.847126        151.152706        18.673912   \n",
       "9  2021-07-22T03:07:53Z       -33.847201        151.152812        23.093376   \n",
       "\n",
       "   finish_speed                               start_location  \\\n",
       "0      0.000000          [Hunters Hill, New South Wales, AU]   \n",
       "1      0.051807             [Glenbrook, New South Wales, AU]   \n",
       "2      1.354748             [Drummoyne, New South Wales, AU]   \n",
       "3      0.956974             [Drummoyne, New South Wales, AU]   \n",
       "4      0.304687  [Forrest, Australian Capital Territory, AU]   \n",
       "5      0.035820            [Canada Bay, New South Wales, AU]   \n",
       "6      0.139416             [Drummoyne, New South Wales, AU]   \n",
       "7      0.220545             [Drummoyne, New South Wales, AU]   \n",
       "8      1.057088            [Canada Bay, New South Wales, AU]   \n",
       "9      1.081762             [Drummoyne, New South Wales, AU]   \n",
       "\n",
       "                               finish_location  \n",
       "0            [Canada Bay, New South Wales, AU]  \n",
       "1             [Glenbrook, New South Wales, AU]  \n",
       "2             [Drummoyne, New South Wales, AU]  \n",
       "3            [Canada Bay, New South Wales, AU]  \n",
       "4  [Forrest, Australian Capital Territory, AU]  \n",
       "5             [Drummoyne, New South Wales, AU]  \n",
       "6             [Drummoyne, New South Wales, AU]  \n",
       "7             [Drummoyne, New South Wales, AU]  \n",
       "8            [Canada Bay, New South Wales, AU]  \n",
       "9            [Canada Bay, New South Wales, AU]  "
      ]
     },
     "execution_count": 23,
     "metadata": {},
     "output_type": "execute_result"
    }
   ],
   "source": [
    "walk_info_df.head(10)"
   ]
  },
  {
   "cell_type": "code",
   "execution_count": 24,
   "metadata": {},
   "outputs": [],
   "source": [
    "def calculate_elapsed_time_minutes(finish_datetime, start_datetime):\n",
    "    dt = pendulum.parse(finish_datetime) - pendulum.parse(start_datetime)\n",
    "    return float(dt.in_seconds() / 60 / 60)"
   ]
  },
  {
   "cell_type": "code",
   "execution_count": 25,
   "metadata": {},
   "outputs": [],
   "source": [
    "walk_info_df['elapsed_time_hours'] = walk_info_df.apply(lambda row: calculate_elapsed_time_minutes(row['finish_datetime'], row['start_datetime']), axis=1)"
   ]
  },
  {
   "cell_type": "code",
   "execution_count": 26,
   "metadata": {},
   "outputs": [],
   "source": [
    "walk_info_df['start_datetime'] = walk_info_df['start_datetime'].apply(lambda dt: pendulum.parse(dt, tz=\"Australia/Sydney\").to_datetime_string())    # TODO: Need to convert from UTC to Sydney local time?"
   ]
  },
  {
   "cell_type": "code",
   "execution_count": 27,
   "metadata": {},
   "outputs": [
    {
     "data": {
      "text/html": [
       "<div>\n",
       "<style scoped>\n",
       "    .dataframe tbody tr th:only-of-type {\n",
       "        vertical-align: middle;\n",
       "    }\n",
       "\n",
       "    .dataframe tbody tr th {\n",
       "        vertical-align: top;\n",
       "    }\n",
       "\n",
       "    .dataframe thead th {\n",
       "        text-align: right;\n",
       "    }\n",
       "</style>\n",
       "<table border=\"1\" class=\"dataframe\">\n",
       "  <thead>\n",
       "    <tr style=\"text-align: right;\">\n",
       "      <th></th>\n",
       "      <th>start_datetime</th>\n",
       "      <th>start_latitude</th>\n",
       "      <th>start_longitude</th>\n",
       "      <th>start_altitude</th>\n",
       "      <th>start_speed</th>\n",
       "      <th>workout_id</th>\n",
       "      <th>finish_datetime</th>\n",
       "      <th>finish_latitude</th>\n",
       "      <th>finish_longitude</th>\n",
       "      <th>finish_altitude</th>\n",
       "      <th>finish_speed</th>\n",
       "      <th>start_location</th>\n",
       "      <th>finish_location</th>\n",
       "      <th>elapsed_time_hours</th>\n",
       "    </tr>\n",
       "  </thead>\n",
       "  <tbody>\n",
       "    <tr>\n",
       "      <th>0</th>\n",
       "      <td>2020-03-18 04:06:07</td>\n",
       "      <td>-33.834663</td>\n",
       "      <td>151.146122</td>\n",
       "      <td>33.426914</td>\n",
       "      <td>1.477171</td>\n",
       "      <td>00622abc5705b0b7ce1019a8778f26f937e130bf</td>\n",
       "      <td>2020-03-18T04:44:34Z</td>\n",
       "      <td>-33.846918</td>\n",
       "      <td>151.153274</td>\n",
       "      <td>20.513332</td>\n",
       "      <td>0.000000</td>\n",
       "      <td>[Hunters Hill, New South Wales, AU]</td>\n",
       "      <td>[Canada Bay, New South Wales, AU]</td>\n",
       "      <td>0.640833</td>\n",
       "    </tr>\n",
       "    <tr>\n",
       "      <th>1</th>\n",
       "      <td>2021-10-14 21:19:01</td>\n",
       "      <td>-33.768691</td>\n",
       "      <td>150.619703</td>\n",
       "      <td>166.526031</td>\n",
       "      <td>0.106720</td>\n",
       "      <td>006282a0c6085c721ba9179b8eee64781b435bce</td>\n",
       "      <td>2021-10-14T21:29:29Z</td>\n",
       "      <td>-33.768667</td>\n",
       "      <td>150.619710</td>\n",
       "      <td>172.390900</td>\n",
       "      <td>0.051807</td>\n",
       "      <td>[Glenbrook, New South Wales, AU]</td>\n",
       "      <td>[Glenbrook, New South Wales, AU]</td>\n",
       "      <td>0.174444</td>\n",
       "    </tr>\n",
       "    <tr>\n",
       "      <th>2</th>\n",
       "      <td>2019-08-27 00:57:17</td>\n",
       "      <td>-33.857683</td>\n",
       "      <td>151.158855</td>\n",
       "      <td>-0.112423</td>\n",
       "      <td>1.282526</td>\n",
       "      <td>008ba174785dd6056b5ca1ec10078acdd7802c80</td>\n",
       "      <td>2019-08-27T01:44:51Z</td>\n",
       "      <td>-33.857442</td>\n",
       "      <td>151.159249</td>\n",
       "      <td>15.319762</td>\n",
       "      <td>1.354748</td>\n",
       "      <td>[Drummoyne, New South Wales, AU]</td>\n",
       "      <td>[Drummoyne, New South Wales, AU]</td>\n",
       "      <td>0.792778</td>\n",
       "    </tr>\n",
       "    <tr>\n",
       "      <th>3</th>\n",
       "      <td>2019-03-25 03:09:52</td>\n",
       "      <td>-33.849331</td>\n",
       "      <td>151.157116</td>\n",
       "      <td>17.284760</td>\n",
       "      <td>1.363591</td>\n",
       "      <td>00a5b19aad5ac7e38a951442cc38e92ca83e1c75</td>\n",
       "      <td>2019-03-25T03:17:43Z</td>\n",
       "      <td>-33.847052</td>\n",
       "      <td>151.152803</td>\n",
       "      <td>20.752979</td>\n",
       "      <td>0.956974</td>\n",
       "      <td>[Drummoyne, New South Wales, AU]</td>\n",
       "      <td>[Canada Bay, New South Wales, AU]</td>\n",
       "      <td>0.130833</td>\n",
       "    </tr>\n",
       "    <tr>\n",
       "      <th>4</th>\n",
       "      <td>2020-07-02 06:29:57</td>\n",
       "      <td>-35.299718</td>\n",
       "      <td>149.123614</td>\n",
       "      <td>567.276245</td>\n",
       "      <td>0.172744</td>\n",
       "      <td>00c93d495a03c7ba98bc6db89f90cab645a18c90</td>\n",
       "      <td>2020-07-02T07:19:18Z</td>\n",
       "      <td>-35.299912</td>\n",
       "      <td>149.123778</td>\n",
       "      <td>566.349731</td>\n",
       "      <td>0.304687</td>\n",
       "      <td>[Forrest, Australian Capital Territory, AU]</td>\n",
       "      <td>[Forrest, Australian Capital Territory, AU]</td>\n",
       "      <td>0.822500</td>\n",
       "    </tr>\n",
       "  </tbody>\n",
       "</table>\n",
       "</div>"
      ],
      "text/plain": [
       "        start_datetime  start_latitude  start_longitude  start_altitude  \\\n",
       "0  2020-03-18 04:06:07      -33.834663       151.146122       33.426914   \n",
       "1  2021-10-14 21:19:01      -33.768691       150.619703      166.526031   \n",
       "2  2019-08-27 00:57:17      -33.857683       151.158855       -0.112423   \n",
       "3  2019-03-25 03:09:52      -33.849331       151.157116       17.284760   \n",
       "4  2020-07-02 06:29:57      -35.299718       149.123614      567.276245   \n",
       "\n",
       "   start_speed                                workout_id  \\\n",
       "0     1.477171  00622abc5705b0b7ce1019a8778f26f937e130bf   \n",
       "1     0.106720  006282a0c6085c721ba9179b8eee64781b435bce   \n",
       "2     1.282526  008ba174785dd6056b5ca1ec10078acdd7802c80   \n",
       "3     1.363591  00a5b19aad5ac7e38a951442cc38e92ca83e1c75   \n",
       "4     0.172744  00c93d495a03c7ba98bc6db89f90cab645a18c90   \n",
       "\n",
       "        finish_datetime  finish_latitude  finish_longitude  finish_altitude  \\\n",
       "0  2020-03-18T04:44:34Z       -33.846918        151.153274        20.513332   \n",
       "1  2021-10-14T21:29:29Z       -33.768667        150.619710       172.390900   \n",
       "2  2019-08-27T01:44:51Z       -33.857442        151.159249        15.319762   \n",
       "3  2019-03-25T03:17:43Z       -33.847052        151.152803        20.752979   \n",
       "4  2020-07-02T07:19:18Z       -35.299912        149.123778       566.349731   \n",
       "\n",
       "   finish_speed                               start_location  \\\n",
       "0      0.000000          [Hunters Hill, New South Wales, AU]   \n",
       "1      0.051807             [Glenbrook, New South Wales, AU]   \n",
       "2      1.354748             [Drummoyne, New South Wales, AU]   \n",
       "3      0.956974             [Drummoyne, New South Wales, AU]   \n",
       "4      0.304687  [Forrest, Australian Capital Territory, AU]   \n",
       "\n",
       "                               finish_location  elapsed_time_hours  \n",
       "0            [Canada Bay, New South Wales, AU]            0.640833  \n",
       "1             [Glenbrook, New South Wales, AU]            0.174444  \n",
       "2             [Drummoyne, New South Wales, AU]            0.792778  \n",
       "3            [Canada Bay, New South Wales, AU]            0.130833  \n",
       "4  [Forrest, Australian Capital Territory, AU]            0.822500  "
      ]
     },
     "execution_count": 27,
     "metadata": {},
     "output_type": "execute_result"
    }
   ],
   "source": [
    "walk_info_df.head()"
   ]
  },
  {
   "cell_type": "code",
   "execution_count": 28,
   "metadata": {},
   "outputs": [],
   "source": [
    "walk_info_df = walk_info_df.merge(workouts_df, how=\"inner\", on=\"workout_id\")"
   ]
  },
  {
   "cell_type": "code",
   "execution_count": 29,
   "metadata": {},
   "outputs": [],
   "source": [
    "walk_info_df['startDate'] = walk_info_df['startDate'].apply(lambda dt: pendulum.instance(dt).to_datetime_string()) \n",
    "walk_info_df['endDate'] = walk_info_df['endDate'].apply(lambda dt: pendulum.instance(dt).to_datetime_string())"
   ]
  },
  {
   "cell_type": "code",
   "execution_count": 30,
   "metadata": {},
   "outputs": [],
   "source": [
    "walk_info_df.to_excel('walk_info_df.xlsx', index=False)"
   ]
  },
  {
   "cell_type": "code",
   "execution_count": 31,
   "metadata": {},
   "outputs": [
    {
     "data": {
      "text/plain": [
       "1.0"
      ]
     },
     "execution_count": 31,
     "metadata": {},
     "output_type": "execute_result"
    }
   ],
   "source": [
    "start_point_df['workout_id'].nunique() / len(start_point_df)"
   ]
  },
  {
   "cell_type": "code",
   "execution_count": 32,
   "metadata": {},
   "outputs": [
    {
     "name": "stdout",
     "output_type": "stream",
     "text": [
      "<class 'pandas.core.frame.DataFrame'>\n",
      "RangeIndex: 681 entries, 0 to 680\n",
      "Data columns (total 12 columns):\n",
      " #   Column                         Non-Null Count  Dtype                                \n",
      "---  ------                         --------------  -----                                \n",
      " 0   workout_id                     681 non-null    object                               \n",
      " 1   duration_minutes               681 non-null    object                               \n",
      " 2   totaldistance_km               681 non-null    object                               \n",
      " 3   totalenergyburned_kJ           681 non-null    object                               \n",
      " 4   sourceName                     681 non-null    object                               \n",
      " 5   sourceVersion                  681 non-null    object                               \n",
      " 6   startDate                      681 non-null    datetime64[ns, pytz.FixedOffset(600)]\n",
      " 7   endDate                        681 non-null    datetime64[ns, pytz.FixedOffset(600)]\n",
      " 8   metadata_HKWeatherTemperature  626 non-null    object                               \n",
      " 9   metadata_HKWeatherHumidity     624 non-null    object                               \n",
      " 10  metadata_HKElevationAscended   537 non-null    object                               \n",
      " 11  metadata_HKAverageMETs         455 non-null    object                               \n",
      "dtypes: datetime64[ns, pytz.FixedOffset(600)](2), object(10)\n",
      "memory usage: 64.0+ KB\n"
     ]
    }
   ],
   "source": [
    "workouts_df.info()"
   ]
  },
  {
   "cell_type": "code",
   "execution_count": null,
   "metadata": {},
   "outputs": [],
   "source": [
    "workouts_df_cleaned = klib.data_cleaning(workouts_df)"
   ]
  },
  {
   "cell_type": "code",
   "execution_count": null,
   "metadata": {},
   "outputs": [],
   "source": [
    "workouts_df_cleaned.info()"
   ]
  },
  {
   "cell_type": "code",
   "execution_count": null,
   "metadata": {},
   "outputs": [],
   "source": [
    "workouts_df_cleaned.head()"
   ]
  },
  {
   "cell_type": "code",
   "execution_count": null,
   "metadata": {},
   "outputs": [],
   "source": [
    "db_file"
   ]
  },
  {
   "cell_type": "code",
   "execution_count": null,
   "metadata": {},
   "outputs": [],
   "source": [
    "workouts_csv = HEALTHKIT_DATA_PATH / \"workouts.csv\""
   ]
  },
  {
   "cell_type": "code",
   "execution_count": null,
   "metadata": {},
   "outputs": [],
   "source": [
    "workouts_df_cleaned.to_csv(workouts_csv, index=False)"
   ]
  },
  {
   "cell_type": "code",
   "execution_count": null,
   "metadata": {},
   "outputs": [],
   "source": [
    "workouts_df_cleaned.columns"
   ]
  },
  {
   "cell_type": "code",
   "execution_count": null,
   "metadata": {},
   "outputs": [],
   "source": [
    "workouts_df_cleaned.nunique()"
   ]
  },
  {
   "cell_type": "code",
   "execution_count": null,
   "metadata": {},
   "outputs": [],
   "source": [
    "[col for col in workouts_df.columns.values if col not in workouts_df_cleaned.columns.values]"
   ]
  },
  {
   "cell_type": "code",
   "execution_count": null,
   "metadata": {},
   "outputs": [],
   "source": [
    "tables_df = create_df_from_sql_query_in_file(\"list_all_tables.sql\", db.conn)"
   ]
  },
  {
   "cell_type": "code",
   "execution_count": null,
   "metadata": {},
   "outputs": [],
   "source": [
    "tables_df"
   ]
  },
  {
   "cell_type": "code",
   "execution_count": null,
   "metadata": {},
   "outputs": [],
   "source": [
    "WALK_DETAILS_FILE = 'walk_details.toml'\n",
    "walk_details = Path('../' + WALK_DETAILS_FILE)\n"
   ]
  },
  {
   "cell_type": "code",
   "execution_count": null,
   "metadata": {},
   "outputs": [],
   "source": [
    "walk_details"
   ]
  },
  {
   "cell_type": "code",
   "execution_count": null,
   "metadata": {},
   "outputs": [],
   "source": [
    "with open(walk_details, encoding=\"utf-8\") as f:\n",
    "    walk_details_dict = tomli.load(f)"
   ]
  },
  {
   "cell_type": "code",
   "execution_count": null,
   "metadata": {},
   "outputs": [],
   "source": [
    "walk_details_dict"
   ]
  },
  {
   "cell_type": "code",
   "execution_count": null,
   "metadata": {},
   "outputs": [],
   "source": [
    "pd.DataFrame(walk_details_dict, )"
   ]
  },
  {
   "cell_type": "code",
   "execution_count": null,
   "metadata": {},
   "outputs": [],
   "source": [
    "\n",
    "def calc_walk_stats(walk_data):\n",
    "    total_time = dt.timedelta(0)\n",
    "    total_distance = 0\n",
    "\n",
    "    for hike in walk_data:\n",
    "        total_time += hike.index.max()\n",
    "        # print(iHike+1, walk_date[iHike], hike.index.max(), hike['dist'].max() / 1e3)\n",
    "        total_distance += hike['dist'].max()\n",
    "    total_distance /= 1e3\n",
    "\n",
    "    start_coord = walk_data[0][['lat', 'lon']].iloc[0].tolist()\n",
    "    end_coord = walk_data[-1][['lat', 'lon']].iloc[-1].tolist()\n",
    "    return total_time, total_distance, start_coord, end_coord"
   ]
  },
  {
   "cell_type": "code",
   "execution_count": null,
   "metadata": {},
   "outputs": [],
   "source": [
    "def create_walk_cached_data_for_app(db_file, n_rows_used=5):\n",
    "    # read in all of the walks data and sample at an appropriate frequency and cache for faster use in the app\n",
    "    db_conn = sql.connect(db_file)\n",
    "    walk_df = pd.read_sql_query('SELECT * FROM walks', db_conn)\n",
    "\n",
    "    UNUSED_COLUMNS = ['dist', 'speed']\n",
    "\n",
    "    walk_df.drop(UNUSED_COLUMNS, axis=1, inplace=True)\n",
    "    walk_df.dropna(inplace=True)      # TODO: Check why there are a few NaNs\n",
    "    walk_df = walk_df.iloc[::n_rows_used].reset_index()    # downsample\n",
    "\n",
    "    walk_df.to_feather(Path(db_file.as_posix().replace('.db', '.cache.feather')))\n",
    "    \n",
    "    return walk_df"
   ]
  },
  {
   "cell_type": "code",
   "execution_count": null,
   "metadata": {},
   "outputs": [],
   "source": [
    "# Not working yet -- this is the alternate approach to using the individual .FIT files\n",
    "# walk_df = create_walk_cached_data_for_app(db_file, 10)"
   ]
  },
  {
   "cell_type": "code",
   "execution_count": null,
   "metadata": {},
   "outputs": [],
   "source": [
    "# walk_df[walk_df['lat'].isna()]"
   ]
  },
  {
   "cell_type": "code",
   "execution_count": null,
   "metadata": {},
   "outputs": [],
   "source": [
    "Path(db_file.as_posix().replace('.db', '.cache.feather'))"
   ]
  },
  {
   "cell_type": "code",
   "execution_count": null,
   "metadata": {},
   "outputs": [],
   "source": [
    "# walk_df = pd.read_feather(Path(db_file.as_posix().replace('.db', '.cache.feather')))"
   ]
  },
  {
   "cell_type": "code",
   "execution_count": null,
   "metadata": {},
   "outputs": [],
   "source": [
    "# walk_df.info()"
   ]
  },
  {
   "cell_type": "code",
   "execution_count": null,
   "metadata": {},
   "outputs": [],
   "source": [
    "# walk_df['WalkName'].unique()"
   ]
  }
 ],
 "metadata": {
  "interpreter": {
   "hash": "ac814e65969e50bf6ae2d49f235efb68d052fa2184fe3bd5a9298b89a256f6e2"
  },
  "kernelspec": {
   "display_name": "Python 3.9.6 ('emmaus_walking_py38')",
   "language": "python",
   "name": "python3"
  },
  "language_info": {
   "codemirror_mode": {
    "name": "ipython",
    "version": 3
   },
   "file_extension": ".py",
   "mimetype": "text/x-python",
   "name": "python",
   "nbconvert_exporter": "python",
   "pygments_lexer": "ipython3",
   "version": "3.9.6"
  }
 },
 "nbformat": 4,
 "nbformat_minor": 4
}
