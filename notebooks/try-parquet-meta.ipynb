{
 "cells": [
  {
   "attachments": {},
   "cell_type": "markdown",
   "metadata": {},
   "source": [
    "## Parquet with metadata (and pyarrow)\n",
    "\n",
    "### Parquet\n",
    "\n",
    "https://towardsdatascience.com/saving-metadata-with-dataframes-71f51f558d8e\n",
    "\n",
    "https://towardsdatascience.com/parquet-best-practices-discover-your-data-without-loading-them-f854c57a45b6\n",
    "\n",
    "### Arrow\n",
    "\n",
    "https://github.com/apache/arrow\n",
    "\n",
    "https://arrow.apache.org\n",
    "\n",
    "https://arrow.apache.org/docs/python/\n"
   ]
  },
  {
   "cell_type": "code",
   "execution_count": 1,
   "metadata": {},
   "outputs": [],
   "source": [
    "import pandas as pd\n",
    "import pyarrow as pa\n",
    "import pyarrow.parquet as pq\n",
    "import json"
   ]
  },
  {
   "cell_type": "code",
   "execution_count": 2,
   "metadata": {},
   "outputs": [],
   "source": [
    "df = pd.DataFrame(\n",
    "  { 'temp': [12.1, 11, 13, 10, 10],\n",
    "    'rain': [9.2, 10.0, 2.2, 0.2, 0.4] },\n",
    "    index=pd.DatetimeIndex(['2020-10-12',\n",
    "                            '2020-10-13',\n",
    "                            '2020-10-14',\n",
    "                            '2020-10-15',\n",
    "                            '2020-10-16'],\n",
    "                           name='date')\n",
    ")"
   ]
  },
  {
   "cell_type": "code",
   "execution_count": 3,
   "metadata": {},
   "outputs": [
    {
     "data": {
      "text/html": [
       "<div>\n",
       "<style scoped>\n",
       "    .dataframe tbody tr th:only-of-type {\n",
       "        vertical-align: middle;\n",
       "    }\n",
       "\n",
       "    .dataframe tbody tr th {\n",
       "        vertical-align: top;\n",
       "    }\n",
       "\n",
       "    .dataframe thead th {\n",
       "        text-align: right;\n",
       "    }\n",
       "</style>\n",
       "<table border=\"1\" class=\"dataframe\">\n",
       "  <thead>\n",
       "    <tr style=\"text-align: right;\">\n",
       "      <th></th>\n",
       "      <th>temp</th>\n",
       "      <th>rain</th>\n",
       "    </tr>\n",
       "    <tr>\n",
       "      <th>date</th>\n",
       "      <th></th>\n",
       "      <th></th>\n",
       "    </tr>\n",
       "  </thead>\n",
       "  <tbody>\n",
       "    <tr>\n",
       "      <th>2020-10-12</th>\n",
       "      <td>12.1</td>\n",
       "      <td>9.2</td>\n",
       "    </tr>\n",
       "    <tr>\n",
       "      <th>2020-10-13</th>\n",
       "      <td>11.0</td>\n",
       "      <td>10.0</td>\n",
       "    </tr>\n",
       "    <tr>\n",
       "      <th>2020-10-14</th>\n",
       "      <td>13.0</td>\n",
       "      <td>2.2</td>\n",
       "    </tr>\n",
       "    <tr>\n",
       "      <th>2020-10-15</th>\n",
       "      <td>10.0</td>\n",
       "      <td>0.2</td>\n",
       "    </tr>\n",
       "    <tr>\n",
       "      <th>2020-10-16</th>\n",
       "      <td>10.0</td>\n",
       "      <td>0.4</td>\n",
       "    </tr>\n",
       "  </tbody>\n",
       "</table>\n",
       "</div>"
      ],
      "text/plain": [
       "            temp  rain\n",
       "date                  \n",
       "2020-10-12  12.1   9.2\n",
       "2020-10-13  11.0  10.0\n",
       "2020-10-14  13.0   2.2\n",
       "2020-10-15  10.0   0.2\n",
       "2020-10-16  10.0   0.4"
      ]
     },
     "execution_count": 3,
     "metadata": {},
     "output_type": "execute_result"
    }
   ],
   "source": [
    "df"
   ]
  },
  {
   "cell_type": "code",
   "execution_count": 4,
   "metadata": {},
   "outputs": [],
   "source": [
    "custom_meta_content = {\n",
    "    'user': 'M Booth',\n",
    "    'coord': '55.9533° N, 3.1883° W',\n",
    "    'time': '2020-10-17T03:59:59+0000'  # ISO-8601\n",
    "}"
   ]
  },
  {
   "cell_type": "code",
   "execution_count": 5,
   "metadata": {},
   "outputs": [
    {
     "data": {
      "text/plain": [
       "{'user': 'M Booth',\n",
       " 'coord': '55.9533° N, 3.1883° W',\n",
       " 'time': '2020-10-17T03:59:59+0000'}"
      ]
     },
     "execution_count": 5,
     "metadata": {},
     "output_type": "execute_result"
    }
   ],
   "source": [
    "custom_meta_content"
   ]
  },
  {
   "cell_type": "code",
   "execution_count": 6,
   "metadata": {},
   "outputs": [],
   "source": [
    "custom_meta_key = \"data_info\""
   ]
  },
  {
   "cell_type": "code",
   "execution_count": 7,
   "metadata": {},
   "outputs": [],
   "source": [
    "table = pa.Table.from_pandas(df)   # Question - same method available in Polars?"
   ]
  },
  {
   "cell_type": "code",
   "execution_count": 8,
   "metadata": {},
   "outputs": [
    {
     "data": {
      "text/plain": [
       "pyarrow.Table\n",
       "temp: double\n",
       "rain: double\n",
       "date: timestamp[ns]\n",
       "----\n",
       "temp: [[12.1,11,13,10,10]]\n",
       "rain: [[9.2,10,2.2,0.2,0.4]]\n",
       "date: [[2020-10-12 00:00:00.000000000,2020-10-13 00:00:00.000000000,2020-10-14 00:00:00.000000000,2020-10-15 00:00:00.000000000,2020-10-16 00:00:00.000000000]]"
      ]
     },
     "execution_count": 8,
     "metadata": {},
     "output_type": "execute_result"
    }
   ],
   "source": [
    "table"
   ]
  },
  {
   "cell_type": "code",
   "execution_count": 9,
   "metadata": {},
   "outputs": [
    {
     "data": {
      "text/plain": [
       "<pyarrow.lib.ChunkedArray object at 0x11e28b810>\n",
       "[\n",
       "  [\n",
       "    12.1,\n",
       "    11,\n",
       "    13,\n",
       "    10,\n",
       "    10\n",
       "  ]\n",
       "]"
      ]
     },
     "execution_count": 9,
     "metadata": {},
     "output_type": "execute_result"
    }
   ],
   "source": [
    "table[\"temp\"]"
   ]
  },
  {
   "cell_type": "code",
   "execution_count": 10,
   "metadata": {},
   "outputs": [
    {
     "name": "stdout",
     "output_type": "stream",
     "text": [
      "{b'pandas': b'{\"index_columns\": [\"date\"], \"column_indexes\": [{\"name\": null, \"field_name\": null, \"pandas_type\": \"unicode\", \"numpy_type\": \"object\", \"metadata\": {\"encoding\": \"UTF-8\"}}], \"columns\": [{\"name\": \"temp\", \"field_name\": \"temp\", \"pandas_type\": \"float64\", \"numpy_type\": \"float64\", \"metadata\": null}, {\"name\": \"rain\", \"field_name\": \"rain\", \"pandas_type\": \"float64\", \"numpy_type\": \"float64\", \"metadata\": null}, {\"name\": \"date\", \"field_name\": \"date\", \"pandas_type\": \"datetime\", \"numpy_type\": \"datetime64[ns]\", \"metadata\": null}], \"creator\": {\"library\": \"pyarrow\", \"version\": \"11.0.0\"}, \"pandas_version\": \"1.5.3\"}'}\n"
     ]
    }
   ],
   "source": [
    "print(table.schema.metadata)\n"
   ]
  },
  {
   "cell_type": "code",
   "execution_count": 11,
   "metadata": {},
   "outputs": [
    {
     "data": {
      "text/plain": [
       "dict"
      ]
     },
     "execution_count": 11,
     "metadata": {},
     "output_type": "execute_result"
    }
   ],
   "source": [
    "type(table.schema.metadata)"
   ]
  },
  {
   "cell_type": "code",
   "execution_count": 12,
   "metadata": {},
   "outputs": [],
   "source": [
    "import pprint"
   ]
  },
  {
   "cell_type": "code",
   "execution_count": 13,
   "metadata": {},
   "outputs": [
    {
     "name": "stdout",
     "output_type": "stream",
     "text": [
      "{b'pandas': b'{\"index_columns\": [\"date\"], \"column_indexes\": [{\"name\": null, \"f'\n",
      "            b'ield_name\": null, \"pandas_type\": \"unicode\", \"numpy_type\": \"objec'\n",
      "            b't\", \"metadata\": {\"encoding\": \"UTF-8\"}}], \"columns\": [{\"name\": \"t'\n",
      "            b'emp\", \"field_name\": \"temp\", \"pandas_type\": \"float64\", \"numpy_typ'\n",
      "            b'e\": \"float64\", \"metadata\": null}, {\"name\": \"rain\", \"field_name\":'\n",
      "            b' \"rain\", \"pandas_type\": \"float64\", \"numpy_type\": \"float64\", \"met'\n",
      "            b'adata\": null}, {\"name\": \"date\", \"field_name\": \"date\", \"pandas_ty'\n",
      "            b'pe\": \"datetime\", \"numpy_type\": \"datetime64[ns]\", \"metadata\": nul'\n",
      "            b'l}], \"creator\": {\"library\": \"pyarrow\", \"version\": \"11.0.0\"}, \"pa'\n",
      "            b'ndas_version\": \"1.5.3\"}'}\n"
     ]
    }
   ],
   "source": [
    "pprint.pprint(table.schema.metadata)"
   ]
  },
  {
   "cell_type": "code",
   "execution_count": 14,
   "metadata": {},
   "outputs": [],
   "source": [
    "def create_combined_metadata(custom_meta_content, table):\n",
    "    custom_meta_json = json.dumps(custom_meta_content)\n",
    "    existing_meta = table.schema.metadata\n",
    "    combined_meta = {\n",
    "        custom_meta_key.encode() : custom_meta_json.encode(),\n",
    "        **existing_meta\n",
    "    }\n",
    "    return combined_meta"
   ]
  },
  {
   "cell_type": "code",
   "execution_count": 15,
   "metadata": {},
   "outputs": [],
   "source": [
    "combined_meta = create_combined_metadata(custom_meta_content, table)"
   ]
  },
  {
   "cell_type": "code",
   "execution_count": 16,
   "metadata": {},
   "outputs": [
    {
     "data": {
      "text/plain": [
       "{b'data_info': b'{\"user\": \"M Booth\", \"coord\": \"55.9533\\\\u00b0 N, 3.1883\\\\u00b0 W\", \"time\": \"2020-10-17T03:59:59+0000\"}',\n",
       " b'pandas': b'{\"index_columns\": [\"date\"], \"column_indexes\": [{\"name\": null, \"field_name\": null, \"pandas_type\": \"unicode\", \"numpy_type\": \"object\", \"metadata\": {\"encoding\": \"UTF-8\"}}], \"columns\": [{\"name\": \"temp\", \"field_name\": \"temp\", \"pandas_type\": \"float64\", \"numpy_type\": \"float64\", \"metadata\": null}, {\"name\": \"rain\", \"field_name\": \"rain\", \"pandas_type\": \"float64\", \"numpy_type\": \"float64\", \"metadata\": null}, {\"name\": \"date\", \"field_name\": \"date\", \"pandas_type\": \"datetime\", \"numpy_type\": \"datetime64[ns]\", \"metadata\": null}], \"creator\": {\"library\": \"pyarrow\", \"version\": \"11.0.0\"}, \"pandas_version\": \"1.5.3\"}'}"
      ]
     },
     "execution_count": 16,
     "metadata": {},
     "output_type": "execute_result"
    }
   ],
   "source": [
    "combined_meta"
   ]
  },
  {
   "cell_type": "code",
   "execution_count": 17,
   "metadata": {},
   "outputs": [],
   "source": [
    "table = table.replace_schema_metadata(combined_meta)"
   ]
  },
  {
   "cell_type": "code",
   "execution_count": 18,
   "metadata": {},
   "outputs": [
    {
     "name": "stdout",
     "output_type": "stream",
     "text": [
      "{b'data_info': b'{\"user\": \"M Booth\", \"coord\": \"55.9533\\\\u00b0 N, 3.1883\\\\u00b0 W\", \"time\": \"2020-10-17T03:59:59+0000\"}', b'pandas': b'{\"index_columns\": [\"date\"], \"column_indexes\": [{\"name\": null, \"field_name\": null, \"pandas_type\": \"unicode\", \"numpy_type\": \"object\", \"metadata\": {\"encoding\": \"UTF-8\"}}], \"columns\": [{\"name\": \"temp\", \"field_name\": \"temp\", \"pandas_type\": \"float64\", \"numpy_type\": \"float64\", \"metadata\": null}, {\"name\": \"rain\", \"field_name\": \"rain\", \"pandas_type\": \"float64\", \"numpy_type\": \"float64\", \"metadata\": null}, {\"name\": \"date\", \"field_name\": \"date\", \"pandas_type\": \"datetime\", \"numpy_type\": \"datetime64[ns]\", \"metadata\": null}], \"creator\": {\"library\": \"pyarrow\", \"version\": \"11.0.0\"}, \"pandas_version\": \"1.5.3\"}'}\n"
     ]
    }
   ],
   "source": [
    "print(table.schema.metadata)"
   ]
  },
  {
   "cell_type": "code",
   "execution_count": 19,
   "metadata": {},
   "outputs": [],
   "source": [
    "pq.write_table(table, '../data/example.parquet', compression='GZIP')"
   ]
  },
  {
   "cell_type": "code",
   "execution_count": 20,
   "metadata": {},
   "outputs": [],
   "source": [
    "restored_table = pq.read_table('../data/example.parquet')\n"
   ]
  },
  {
   "cell_type": "code",
   "execution_count": 21,
   "metadata": {},
   "outputs": [],
   "source": [
    "restored_df = restored_table.to_pandas()"
   ]
  },
  {
   "cell_type": "code",
   "execution_count": 22,
   "metadata": {},
   "outputs": [
    {
     "data": {
      "text/html": [
       "<div>\n",
       "<style scoped>\n",
       "    .dataframe tbody tr th:only-of-type {\n",
       "        vertical-align: middle;\n",
       "    }\n",
       "\n",
       "    .dataframe tbody tr th {\n",
       "        vertical-align: top;\n",
       "    }\n",
       "\n",
       "    .dataframe thead th {\n",
       "        text-align: right;\n",
       "    }\n",
       "</style>\n",
       "<table border=\"1\" class=\"dataframe\">\n",
       "  <thead>\n",
       "    <tr style=\"text-align: right;\">\n",
       "      <th></th>\n",
       "      <th>temp</th>\n",
       "      <th>rain</th>\n",
       "    </tr>\n",
       "    <tr>\n",
       "      <th>date</th>\n",
       "      <th></th>\n",
       "      <th></th>\n",
       "    </tr>\n",
       "  </thead>\n",
       "  <tbody>\n",
       "    <tr>\n",
       "      <th>2020-10-12</th>\n",
       "      <td>12.1</td>\n",
       "      <td>9.2</td>\n",
       "    </tr>\n",
       "    <tr>\n",
       "      <th>2020-10-13</th>\n",
       "      <td>11.0</td>\n",
       "      <td>10.0</td>\n",
       "    </tr>\n",
       "    <tr>\n",
       "      <th>2020-10-14</th>\n",
       "      <td>13.0</td>\n",
       "      <td>2.2</td>\n",
       "    </tr>\n",
       "    <tr>\n",
       "      <th>2020-10-15</th>\n",
       "      <td>10.0</td>\n",
       "      <td>0.2</td>\n",
       "    </tr>\n",
       "    <tr>\n",
       "      <th>2020-10-16</th>\n",
       "      <td>10.0</td>\n",
       "      <td>0.4</td>\n",
       "    </tr>\n",
       "  </tbody>\n",
       "</table>\n",
       "</div>"
      ],
      "text/plain": [
       "            temp  rain\n",
       "date                  \n",
       "2020-10-12  12.1   9.2\n",
       "2020-10-13  11.0  10.0\n",
       "2020-10-14  13.0   2.2\n",
       "2020-10-15  10.0   0.2\n",
       "2020-10-16  10.0   0.4"
      ]
     },
     "execution_count": 22,
     "metadata": {},
     "output_type": "execute_result"
    }
   ],
   "source": [
    "restored_df"
   ]
  },
  {
   "cell_type": "code",
   "execution_count": 23,
   "metadata": {},
   "outputs": [],
   "source": [
    "def read_parquet_metadata(parquet_file, custom_meta_key):\n",
    "    restored_table = pq.read_table(parquet_file)\n",
    "    restored_meta_json = restored_table.schema.metadata[custom_meta_key.encode()]\n",
    "    return json.loads(restored_meta_json)\n",
    "\n"
   ]
  },
  {
   "cell_type": "code",
   "execution_count": 24,
   "metadata": {},
   "outputs": [],
   "source": [
    "meta_data = read_parquet_metadata(parquet_file=\"../data/example.parquet\", custom_meta_key=custom_meta_key)"
   ]
  },
  {
   "cell_type": "code",
   "execution_count": 25,
   "metadata": {},
   "outputs": [
    {
     "data": {
      "text/plain": [
       "{'user': 'M Booth',\n",
       " 'coord': '55.9533° N, 3.1883° W',\n",
       " 'time': '2020-10-17T03:59:59+0000'}"
      ]
     },
     "execution_count": 25,
     "metadata": {},
     "output_type": "execute_result"
    }
   ],
   "source": [
    "meta_data"
   ]
  },
  {
   "cell_type": "code",
   "execution_count": null,
   "metadata": {},
   "outputs": [],
   "source": []
  }
 ],
 "metadata": {
  "kernelspec": {
   "display_name": ".venv",
   "language": "python",
   "name": "python3"
  },
  "language_info": {
   "codemirror_mode": {
    "name": "ipython",
    "version": 3
   },
   "file_extension": ".py",
   "mimetype": "text/x-python",
   "name": "python",
   "nbconvert_exporter": "python",
   "pygments_lexer": "ipython3",
   "version": "3.9.16"
  },
  "orig_nbformat": 4
 },
 "nbformat": 4,
 "nbformat_minor": 2
}
