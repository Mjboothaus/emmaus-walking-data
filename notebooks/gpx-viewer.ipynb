{
 "cells": [
  {
   "attachments": {},
   "cell_type": "markdown",
   "metadata": {},
   "source": [
    "## GPX Viewer\n",
    "\n",
    "Load GPX file, allow edit/addition of metadata and save/load to Parquet\n",
    "\n",
    "### Parquet\n",
    "\n",
    "https://towardsdatascience.com/saving-metadata-with-dataframes-71f51f558d8e\n",
    "\n",
    "https://towardsdatascience.com/parquet-best-practices-discover-your-data-without-loading-them-f854c57a45b6\n",
    "\n",
    "### Arrow\n",
    "\n",
    "https://github.com/apache/arrow\n",
    "\n",
    "https://arrow.apache.org\n",
    "\n",
    "https://arrow.apache.org/docs/python/\n"
   ]
  },
  {
   "cell_type": "code",
   "execution_count": 1,
   "metadata": {},
   "outputs": [],
   "source": [
    "import pandas as pd\n",
    "import pyarrow as pa\n",
    "import pyarrow.parquet as pq\n",
    "import json"
   ]
  },
  {
   "cell_type": "code",
   "execution_count": 2,
   "metadata": {},
   "outputs": [],
   "source": [
    "import warnings\n",
    "from pathlib import Path\n",
    "from dataclasses import dataclass\n",
    "from datetime import datetime\n",
    "\n",
    "import pandas as pd\n",
    "from gpx_converter import Converter\n",
    "\n",
    "import helper_folium\n",
    "\n",
    "\n",
    "warnings.simplefilter(action=\"ignore\", category=FutureWarning)"
   ]
  },
  {
   "cell_type": "code",
   "execution_count": 3,
   "metadata": {},
   "outputs": [],
   "source": [
    "\n",
    "@dataclass\n",
    "class Track:\n",
    "    name: str\n",
    "    date: datetime.date\n",
    "    time: datetime.time\n",
    "    data: pd.DataFrame\n",
    "\n",
    "\n",
    "\n",
    "def extract_track_metadata(gpx_file):\n",
    "    if gpx_file is not None:\n",
    "        tmp = gpx_file.name.replace(\"route_\", \"\").replace(\".gpx\", \"\").replace(\"_\", \" \")\n",
    "        track_date = datetime.strptime(tmp, \"%Y-%m-%d %H.%M%p\")\n",
    "        track_df = Converter(input_file=gpx_file).gpx_to_dataframe()\n",
    "        track = Track(name=\"undefined\", date=track_date.date(), time=track_date.time(), data=track_df)\n",
    "        return track\n",
    "    else:\n",
    "        return Track()\n",
    "    \n",
    "\n",
    "def plot_track(track):\n",
    "    df = track.data[[\"latitude\", \"longitude\"]]\n",
    "    df.columns = [\"lat\", \"lon\"]\n",
    "    helper_folium.create_walk_map_non_streamlit(df, workout_info=[])\n",
    "    return None"
   ]
  },
  {
   "cell_type": "code",
   "execution_count": 4,
   "metadata": {},
   "outputs": [],
   "source": [
    "DATA_PATH = \"/Users/mjboothaus/code/github/mjboothaus/emmaus-walking-data/data/apple_health_export/workout-routes/\"\n",
    "EXAMPLE_GPX_FILENAME = DATA_PATH + \"route_2017-08-01_7.10am.gpx\"\n",
    "\n",
    "gpx_file = EXAMPLE_GPX_FILENAME\n",
    "\n",
    "if gpx_file is not None:\n",
    "    if Path(gpx_file).exists():\n",
    "        #print(Path(gpx_file).name)\n",
    "        track = extract_track_metadata(Path(gpx_file))\n",
    "        map = plot_track(track)\n",
    "    else:\n",
    "        print(f\"File {gpx_file} does not exist\")\n",
    "\n"
   ]
  },
  {
   "cell_type": "code",
   "execution_count": 5,
   "metadata": {},
   "outputs": [
    {
     "data": {
      "text/plain": [
       "NoneType"
      ]
     },
     "execution_count": 5,
     "metadata": {},
     "output_type": "execute_result"
    }
   ],
   "source": [
    "type(map)"
   ]
  },
  {
   "cell_type": "code",
   "execution_count": 6,
   "metadata": {},
   "outputs": [],
   "source": [
    "custom_meta_content = {\n",
    "    'user': 'M Booth',\n",
    "    'coord': '55.9533° N, 3.1883° W',\n",
    "    'time': '2020-10-17T03:59:59+0000'  # ISO-8601\n",
    "}"
   ]
  },
  {
   "cell_type": "code",
   "execution_count": 7,
   "metadata": {},
   "outputs": [
    {
     "data": {
      "text/plain": [
       "{'user': 'M Booth',\n",
       " 'coord': '55.9533° N, 3.1883° W',\n",
       " 'time': '2020-10-17T03:59:59+0000'}"
      ]
     },
     "execution_count": 7,
     "metadata": {},
     "output_type": "execute_result"
    }
   ],
   "source": [
    "custom_meta_content"
   ]
  },
  {
   "cell_type": "code",
   "execution_count": 8,
   "metadata": {},
   "outputs": [],
   "source": [
    "custom_meta_key = \"data_info\""
   ]
  },
  {
   "cell_type": "code",
   "execution_count": 9,
   "metadata": {},
   "outputs": [
    {
     "ename": "NameError",
     "evalue": "name 'df' is not defined",
     "output_type": "error",
     "traceback": [
      "\u001b[0;31m---------------------------------------------------------------------------\u001b[0m",
      "\u001b[0;31mNameError\u001b[0m                                 Traceback (most recent call last)",
      "Cell \u001b[0;32mIn[9], line 1\u001b[0m\n\u001b[0;32m----> 1\u001b[0m table \u001b[39m=\u001b[39m pa\u001b[39m.\u001b[39mTable\u001b[39m.\u001b[39mfrom_pandas(df)   \u001b[39m# Question - same method available in Polars?\u001b[39;00m\n",
      "\u001b[0;31mNameError\u001b[0m: name 'df' is not defined"
     ]
    }
   ],
   "source": [
    "table = pa.Table.from_pandas(df)   # Question - same method available in Polars?"
   ]
  },
  {
   "cell_type": "code",
   "execution_count": null,
   "metadata": {},
   "outputs": [],
   "source": [
    "table"
   ]
  },
  {
   "cell_type": "code",
   "execution_count": null,
   "metadata": {},
   "outputs": [],
   "source": [
    "table[\"temp\"]"
   ]
  },
  {
   "cell_type": "code",
   "execution_count": null,
   "metadata": {},
   "outputs": [],
   "source": [
    "print(table.schema.metadata)\n"
   ]
  },
  {
   "cell_type": "code",
   "execution_count": null,
   "metadata": {},
   "outputs": [],
   "source": [
    "type(table.schema.metadata)"
   ]
  },
  {
   "cell_type": "code",
   "execution_count": null,
   "metadata": {},
   "outputs": [],
   "source": [
    "import pprint"
   ]
  },
  {
   "cell_type": "code",
   "execution_count": null,
   "metadata": {},
   "outputs": [],
   "source": [
    "pprint.pprint(table.schema.metadata)"
   ]
  },
  {
   "cell_type": "code",
   "execution_count": null,
   "metadata": {},
   "outputs": [],
   "source": [
    "def create_combined_metadata(custom_meta_content, table):\n",
    "    custom_meta_json = json.dumps(custom_meta_content)\n",
    "    existing_meta = table.schema.metadata\n",
    "    combined_meta = {\n",
    "        custom_meta_key.encode() : custom_meta_json.encode(),\n",
    "        **existing_meta\n",
    "    }\n",
    "    return combined_meta"
   ]
  },
  {
   "cell_type": "code",
   "execution_count": null,
   "metadata": {},
   "outputs": [],
   "source": [
    "combined_meta = create_combined_metadata(custom_meta_content, table)"
   ]
  },
  {
   "cell_type": "code",
   "execution_count": null,
   "metadata": {},
   "outputs": [],
   "source": [
    "combined_meta"
   ]
  },
  {
   "cell_type": "code",
   "execution_count": null,
   "metadata": {},
   "outputs": [],
   "source": [
    "table = table.replace_schema_metadata(combined_meta)"
   ]
  },
  {
   "cell_type": "code",
   "execution_count": null,
   "metadata": {},
   "outputs": [],
   "source": [
    "print(table.schema.metadata)"
   ]
  },
  {
   "cell_type": "code",
   "execution_count": null,
   "metadata": {},
   "outputs": [],
   "source": [
    "pq.write_table(table, '../data/example.parquet', compression='GZIP')"
   ]
  },
  {
   "cell_type": "code",
   "execution_count": null,
   "metadata": {},
   "outputs": [],
   "source": [
    "restored_table = pq.read_table('../data/example.parquet')\n"
   ]
  },
  {
   "cell_type": "code",
   "execution_count": null,
   "metadata": {},
   "outputs": [],
   "source": [
    "restored_df = restored_table.to_pandas()"
   ]
  },
  {
   "cell_type": "code",
   "execution_count": null,
   "metadata": {},
   "outputs": [],
   "source": [
    "restored_df"
   ]
  },
  {
   "cell_type": "code",
   "execution_count": null,
   "metadata": {},
   "outputs": [],
   "source": [
    "def read_parquet_metadata(parquet_file, custom_meta_key):\n",
    "    restored_table = pq.read_table(parquet_file)\n",
    "    restored_meta_json = restored_table.schema.metadata[custom_meta_key.encode()]\n",
    "    return json.loads(restored_meta_json)\n",
    "\n"
   ]
  },
  {
   "cell_type": "code",
   "execution_count": null,
   "metadata": {},
   "outputs": [],
   "source": [
    "meta_data = read_parquet_metadata(parquet_file=\"../data/example.parquet\", custom_meta_key=custom_meta_key)"
   ]
  },
  {
   "cell_type": "code",
   "execution_count": null,
   "metadata": {},
   "outputs": [],
   "source": [
    "meta_data"
   ]
  },
  {
   "cell_type": "code",
   "execution_count": null,
   "metadata": {},
   "outputs": [],
   "source": []
  }
 ],
 "metadata": {
  "kernelspec": {
   "display_name": ".venv",
   "language": "python",
   "name": "python3"
  },
  "language_info": {
   "codemirror_mode": {
    "name": "ipython",
    "version": 3
   },
   "file_extension": ".py",
   "mimetype": "text/x-python",
   "name": "python",
   "nbconvert_exporter": "python",
   "pygments_lexer": "ipython3",
   "version": "3.9.16"
  },
  "orig_nbformat": 4
 },
 "nbformat": 4,
 "nbformat_minor": 2
}
